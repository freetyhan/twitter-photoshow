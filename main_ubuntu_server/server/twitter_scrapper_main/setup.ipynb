{
  "cells": [
    {
      "cell_type": "code",
      "execution_count": 10,
      "metadata": {
        "colab": {
          "base_uri": "https://localhost:8080/",
          "height": 1000
        },
        "id": "zUQEqA528V7l",
        "outputId": "5888e305-179e-4cda-d80c-5daf84bf6841"
      },
      "outputs": [
        {
          "name": "stdout",
          "output_type": "stream",
          "text": [
            "Requirement already satisfied: twint in /root/.local/lib/python3.8/site-packages (2.1.21)\n",
            "Requirement already satisfied: cchardet in /root/.local/lib/python3.8/site-packages (from twint) (2.1.7)\n",
            "Requirement already satisfied: aiohttp-socks in /root/.local/lib/python3.8/site-packages (from twint) (0.7.1)\n",
            "Requirement already satisfied: elasticsearch in /root/.local/lib/python3.8/site-packages (from twint) (8.1.0)\n",
            "Requirement already satisfied: fake-useragent in /root/.local/lib/python3.8/site-packages (from twint) (0.1.11)\n",
            "Requirement already satisfied: pysocks in /root/.local/lib/python3.8/site-packages (from twint) (1.7.1)\n",
            "Requirement already satisfied: beautifulsoup4 in /root/.local/lib/python3.8/site-packages (from twint) (4.10.0)\n",
            "Requirement already satisfied: aiodns in /root/.local/lib/python3.8/site-packages (from twint) (3.0.0)\n",
            "Requirement already satisfied: dataclasses in /root/.local/lib/python3.8/site-packages (from twint) (0.6)\n",
            "Requirement already satisfied: schedule in /root/.local/lib/python3.8/site-packages (from twint) (1.1.0)\n",
            "Requirement already satisfied: googletransx in /root/.local/lib/python3.8/site-packages (from twint) (2.4.2)\n",
            "Requirement already satisfied: geopy in /root/.local/lib/python3.8/site-packages (from twint) (2.2.0)\n",
            "Requirement already satisfied: aiohttp in /root/.local/lib/python3.8/site-packages (from twint) (3.8.1)\n",
            "Requirement already satisfied: pandas in /root/.local/lib/python3.8/site-packages (from twint) (1.4.1)\n",
            "Requirement already satisfied: attrs>=19.2.0 in /usr/lib/python3/dist-packages (from aiohttp-socks->twint) (19.3.0)\n",
            "Requirement already satisfied: python-socks[asyncio]<3.0.0,>=2.0.0 in /root/.local/lib/python3.8/site-packages (from aiohttp-socks->twint) (2.0.3)\n",
            "Requirement already satisfied: elastic-transport<9,>=8 in /root/.local/lib/python3.8/site-packages (from elasticsearch->twint) (8.1.0)\n",
            "Requirement already satisfied: soupsieve>1.2 in /root/.local/lib/python3.8/site-packages (from beautifulsoup4->twint) (2.3.1)\n",
            "Requirement already satisfied: pycares>=4.0.0 in /root/.local/lib/python3.8/site-packages (from aiodns->twint) (4.1.2)\n",
            "Requirement already satisfied: requests in /usr/lib/python3/dist-packages (from googletransx->twint) (2.22.0)\n",
            "Requirement already satisfied: geographiclib<2,>=1.49 in /root/.local/lib/python3.8/site-packages (from geopy->twint) (1.52)\n",
            "Requirement already satisfied: async-timeout<5.0,>=4.0.0a3 in /root/.local/lib/python3.8/site-packages (from aiohttp->twint) (4.0.2)\n",
            "Requirement already satisfied: frozenlist>=1.1.1 in /root/.local/lib/python3.8/site-packages (from aiohttp->twint) (1.3.0)\n",
            "Requirement already satisfied: aiosignal>=1.1.2 in /root/.local/lib/python3.8/site-packages (from aiohttp->twint) (1.2.0)\n",
            "Requirement already satisfied: charset-normalizer<3.0,>=2.0 in /root/.local/lib/python3.8/site-packages (from aiohttp->twint) (2.0.12)\n",
            "Requirement already satisfied: multidict<7.0,>=4.5 in /root/.local/lib/python3.8/site-packages (from aiohttp->twint) (6.0.2)\n",
            "Requirement already satisfied: yarl<2.0,>=1.0 in /root/.local/lib/python3.8/site-packages (from aiohttp->twint) (1.7.2)\n",
            "Requirement already satisfied: pytz>=2020.1 in /root/.local/lib/python3.8/site-packages (from pandas->twint) (2022.1)\n",
            "Requirement already satisfied: python-dateutil>=2.8.1 in /usr/local/lib/python3.8/dist-packages (from pandas->twint) (2.8.2)\n",
            "Requirement already satisfied: numpy>=1.18.5; platform_machine != \"aarch64\" and platform_machine != \"arm64\" and python_version < \"3.10\" in /root/.local/lib/python3.8/site-packages (from pandas->twint) (1.22.3)\n",
            "Requirement already satisfied: certifi in /usr/lib/python3/dist-packages (from elastic-transport<9,>=8->elasticsearch->twint) (2019.11.28)\n",
            "Requirement already satisfied: urllib3<2,>=1.26.2 in /root/.local/lib/python3.8/site-packages (from elastic-transport<9,>=8->elasticsearch->twint) (1.26.9)\n",
            "Requirement already satisfied: cffi>=1.5.0 in /root/.local/lib/python3.8/site-packages (from pycares>=4.0.0->aiodns->twint) (1.15.0)\n",
            "Requirement already satisfied: idna>=2.0 in /usr/lib/python3/dist-packages (from yarl<2.0,>=1.0->aiohttp->twint) (2.8)\n",
            "Requirement already satisfied: six>=1.5 in /usr/lib/python3/dist-packages (from python-dateutil>=2.8.1->pandas->twint) (1.14.0)\n",
            "Requirement already satisfied: pycparser in /root/.local/lib/python3.8/site-packages (from cffi>=1.5.0->pycares>=4.0.0->aiodns->twint) (2.21)\n",
            "Requirement already satisfied: mysql-connector-python in /usr/local/lib/python3.8/dist-packages (8.0.28)\n",
            "Requirement already satisfied: protobuf>=3.0.0 in /usr/local/lib/python3.8/dist-packages (from mysql-connector-python) (3.19.4)\n",
            "Requirement already satisfied: profanity-filter in /root/.local/lib/python3.8/site-packages (1.3.3)\n",
            "Requirement already satisfied: cached-property<2.0,>=1.5 in /root/.local/lib/python3.8/site-packages (from profanity-filter) (1.5.2)\n",
            "Requirement already satisfied: pydantic<2.0,>=1.3 in /root/.local/lib/python3.8/site-packages (from profanity-filter) (1.9.0)\n",
            "Requirement already satisfied: poetry-version<0.2.0,>=0.1.3 in /root/.local/lib/python3.8/site-packages (from profanity-filter) (0.1.5)\n",
            "Requirement already satisfied: ordered-set<4.0,>=3.0 in /root/.local/lib/python3.8/site-packages (from profanity-filter) (3.1.1)\n",
            "Requirement already satisfied: ruamel.yaml<0.16.0,>=0.15.89 in /root/.local/lib/python3.8/site-packages (from profanity-filter) (0.15.100)\n",
            "Requirement already satisfied: ordered-set-stubs<0.2.0,>=0.1.3 in /root/.local/lib/python3.8/site-packages (from profanity-filter) (0.1.3)\n",
            "Requirement already satisfied: redis<4.0,>=3.2 in /root/.local/lib/python3.8/site-packages (from profanity-filter) (3.5.3)\n",
            "Requirement already satisfied: more-itertools<9.0,>=8.0 in /root/.local/lib/python3.8/site-packages (from profanity-filter) (8.12.0)\n",
            "Requirement already satisfied: spacy<3.0,>=2.0 in /root/.local/lib/python3.8/site-packages (from profanity-filter) (2.3.7)\n",
            "Requirement already satisfied: typing-extensions>=3.7.4.3 in /root/.local/lib/python3.8/site-packages (from pydantic<2.0,>=1.3->profanity-filter) (4.1.1)\n",
            "Requirement already satisfied: tomlkit<0.6.0,>=0.4.6 in /root/.local/lib/python3.8/site-packages (from poetry-version<0.2.0,>=0.1.3->profanity-filter) (0.5.11)\n",
            "Requirement already satisfied: murmurhash<1.1.0,>=0.28.0 in /root/.local/lib/python3.8/site-packages (from spacy<3.0,>=2.0->profanity-filter) (1.0.6)\n",
            "Requirement already satisfied: blis<0.8.0,>=0.4.0 in /root/.local/lib/python3.8/site-packages (from spacy<3.0,>=2.0->profanity-filter) (0.7.7)\n",
            "Requirement already satisfied: setuptools in /usr/lib/python3/dist-packages (from spacy<3.0,>=2.0->profanity-filter) (45.2.0)\n",
            "Requirement already satisfied: cymem<2.1.0,>=2.0.2 in /root/.local/lib/python3.8/site-packages (from spacy<3.0,>=2.0->profanity-filter) (2.0.6)\n",
            "Requirement already satisfied: srsly<1.1.0,>=1.0.2 in /root/.local/lib/python3.8/site-packages (from spacy<3.0,>=2.0->profanity-filter) (1.0.5)\n",
            "Requirement already satisfied: tqdm<5.0.0,>=4.38.0 in /root/.local/lib/python3.8/site-packages (from spacy<3.0,>=2.0->profanity-filter) (4.63.1)\n",
            "Requirement already satisfied: numpy>=1.15.0 in /root/.local/lib/python3.8/site-packages (from spacy<3.0,>=2.0->profanity-filter) (1.22.3)\n",
            "Requirement already satisfied: catalogue<1.1.0,>=0.0.7 in /root/.local/lib/python3.8/site-packages (from spacy<3.0,>=2.0->profanity-filter) (1.0.0)\n",
            "Requirement already satisfied: preshed<3.1.0,>=3.0.2 in /root/.local/lib/python3.8/site-packages (from spacy<3.0,>=2.0->profanity-filter) (3.0.6)\n",
            "Requirement already satisfied: wasabi<1.1.0,>=0.4.0 in /root/.local/lib/python3.8/site-packages (from spacy<3.0,>=2.0->profanity-filter) (0.9.0)\n",
            "Requirement already satisfied: requests<3.0.0,>=2.13.0 in /usr/lib/python3/dist-packages (from spacy<3.0,>=2.0->profanity-filter) (2.22.0)\n",
            "Requirement already satisfied: plac<1.2.0,>=0.9.6 in /root/.local/lib/python3.8/site-packages (from spacy<3.0,>=2.0->profanity-filter) (1.1.3)\n",
            "Requirement already satisfied: thinc<7.5.0,>=7.4.1 in /root/.local/lib/python3.8/site-packages (from spacy<3.0,>=2.0->profanity-filter) (7.4.5)\n",
            "Requirement already satisfied: gdown in /usr/local/lib/python3.8/dist-packages (4.4.0)\n",
            "Requirement already satisfied: tqdm in /root/.local/lib/python3.8/site-packages (from gdown) (4.63.1)\n",
            "Requirement already satisfied: filelock in /usr/local/lib/python3.8/dist-packages (from gdown) (3.6.0)\n",
            "Requirement already satisfied: six in /usr/lib/python3/dist-packages (from gdown) (1.14.0)\n",
            "Requirement already satisfied: beautifulsoup4 in /root/.local/lib/python3.8/site-packages (from gdown) (4.10.0)\n",
            "Requirement already satisfied: requests[socks] in /usr/lib/python3/dist-packages (from gdown) (2.22.0)\n",
            "Requirement already satisfied: soupsieve>1.2 in /root/.local/lib/python3.8/site-packages (from beautifulsoup4->gdown) (2.3.1)\n",
            "Requirement already satisfied: PySocks!=1.5.7,>=1.5.6 in /root/.local/lib/python3.8/site-packages (from requests[socks]->gdown) (1.7.1)\n",
            "Requirement already satisfied: keras in /usr/local/lib/python3.8/dist-packages (2.8.0)\n",
            "Collecting tensorflow\n",
            "  Downloading tensorflow-2.8.0-cp38-cp38-manylinux2010_x86_64.whl (497.6 MB)\n",
            "\u001b[K     |████████████████████████████████| 497.6 MB 2.2 MB/s eta 0:00:0112  |▍                               | 5.6 MB 20.4 MB/s eta 0:00:25     |▌                               | 8.2 MB 20.4 MB/s eta 0:00:24     |█▍                              | 22.0 MB 20.4 MB/s eta 0:00:24     |█▊                              | 27.0 MB 53.3 MB/s eta 0:00:09     |██                              | 29.7 MB 53.3 MB/s eta 0:00:09     |██▊                             | 42.0 MB 53.3 MB/s eta 0:00:09     |███▋                            | 56.2 MB 13.9 MB/s eta 0:00:32     |████                            | 62.4 MB 13.9 MB/s eta 0:00:32     |████                            | 63.7 MB 13.9 MB/s eta 0:00:32     |█████▍                          | 83.0 MB 13.8 MB/s eta 0:00:30     |█████▍                          | 84.2 MB 13.8 MB/s eta 0:00:30     |█████▌                          | 85.5 MB 13.8 MB/s eta 0:00:30     |█████▉                          | 90.4 MB 13.8 MB/s eta 0:00:30     |██████                          | 93.9 MB 13.8 MB/s eta 0:00:30     |██████▏                         | 95.1 MB 13.8 MB/s eta 0:00:30     |██████▍                         | 99.8 MB 15.3 MB/s eta 0:00:26     |██████▊                         | 104.6 MB 15.3 MB/s eta 0:00:26     |███████▏                        | 112.0 MB 15.3 MB/s eta 0:00:26     |███████▎                        | 113.1 MB 15.3 MB/s eta 0:00:26     |███████▋                        | 117.6 MB 15.3 MB/s eta 0:00:25     |████████▌                       | 133.0 MB 11.7 MB/s eta 0:00:32     |█████████                       | 139.7 MB 11.7 MB/s eta 0:00:31     |█████████                       | 141.0 MB 11.7 MB/s eta 0:00:31     |█████████▍                      | 146.0 MB 36.2 MB/s eta 0:00:10     |██████████                      | 154.0 MB 36.2 MB/s eta 0:00:10     |██████████▍                     | 161.6 MB 36.2 MB/s eta 0:00:10     |██████████▋                     | 165.1 MB 36.2 MB/s eta 0:00:10     |███████████▎                    | 175.1 MB 10.8 MB/s eta 0:00:30     |███████████▊                    | 181.5 MB 10.8 MB/s eta 0:00:30     |████████████                    | 188.0 MB 10.8 MB/s eta 0:00:29     |████████████▋                   | 196.0 MB 14.3 MB/s eta 0:00:22     |████████████▊                   | 197.4 MB 14.3 MB/s eta 0:00:21     |████████████▉                   | 200.0 MB 14.3 MB/s eta 0:00:21     |██████████████                  | 216.3 MB 14.3 MB/s eta 0:00:20     |███████████████▎                | 238.2 MB 57.9 MB/s eta 0:00:05     |███████████████▋                | 243.2 MB 13.8 MB/s eta 0:00:19     |███████████████▉                | 246.6 MB 13.8 MB/s eta 0:00:19     |████████████████▏               | 252.2 MB 13.8 MB/s eta 0:00:18     |████████████████▋               | 257.8 MB 13.8 MB/s eta 0:00:18     |████████████████▊               | 260.2 MB 13.8 MB/s eta 0:00:18     |█████████████████               | 263.9 MB 13.1 MB/s eta 0:00:18     |█████████████████▏              | 266.1 MB 13.1 MB/s eta 0:00:18     |█████████████████▍              | 269.9 MB 13.1 MB/s eta 0:00:18     |██████████████████▋             | 288.7 MB 117.5 MB/s eta 0:00:02     |████████████████████▍           | 317.2 MB 23.0 MB/s eta 0:00:08     |████████████████████▋           | 321.1 MB 23.0 MB/s eta 0:00:08     |█████████████████████           | 327.4 MB 23.0 MB/s eta 0:00:08     |█████████████████████▏          | 328.8 MB 23.0 MB/s eta 0:00:08     |█████████████████████▏          | 329.8 MB 23.0 MB/s eta 0:00:0812     |██████████████████████▎         | 346.4 MB 13.8 MB/s eta 0:00:11     |██████████████████████▍         | 347.8 MB 13.8 MB/s eta 0:00:11     |██████████████████████▋         | 351.3 MB 13.8 MB/s eta 0:00:11     |██████████████████████▉         | 354.7 MB 13.8 MB/s eta 0:00:11     |███████████████████████         | 357.2 MB 14.0 MB/s eta 0:00:11     |███████████████████████▋        | 367.0 MB 14.0 MB/s eta 0:00:10     |███████████████████████▊        | 368.3 MB 14.0 MB/s eta 0:00:10     |████████████████████████        | 371.6 MB 14.0 MB/s eta 0:00:09     |████████████████████████▍       | 378.7 MB 21.8 MB/s eta 0:00:06     |████████████████████████▌       | 380.8 MB 21.8 MB/s eta 0:00:06     |████████████████████████▊       | 384.4 MB 21.8 MB/s eta 0:00:06��████████████████▉       | 386.7 MB 21.8 MB/s eta 0:00:06     |█████████████████████████       | 388.0 MB 21.8 MB/s eta 0:00:06     |█████████████████████████       | 389.0 MB 21.8 MB/s eta 0:00:05     |█████████████████████████       | 390.3 MB 21.8 MB/s eta 0:00:05     |█████████████████████████▍      | 394.0 MB 21.8 MB/s eta 0:00:05     |█████████████████████████▌      | 396.2 MB 21.8 MB/s eta 0:00:05█▌      | 396.7 MB 21.8 MB/s eta 0:00:05     |█████████████████████████▊      | 399.8 MB 21.8 MB/s eta 0:00:05█▊      | 400.3 MB 14.3 MB/s eta 0:00:07| 402.1 MB 14.3 MB/s eta 0:00:07��███████▉      | 402.4 MB 14.3 MB/s eta 0:00:07| 404.3 MB 14.3 MB/s eta 0:00:07��████████      | 404.6 MB 14.3 MB/s eta 0:00:07��██████████████████▏     | 406.6 MB 14.3 MB/s eta 0:00:07████████▏     | 406.9 MB 14.3 MB/s eta 0:00:07     |██████████████████████████▎     | 409.2 MB 14.3 MB/s eta 0:00:07MB/s eta 0:00:07�█████████████▊     | 415.3 MB 14.3 MB/s eta 0:00:06█████████     | 418.7 MB 48.7 MB/s eta 0:00:02     |███████████████████████████     | 420.7 MB 48.7 MB/s eta 0:00:02 eta 0:00:02��███████████████████████▍    | 425.7 MB 48.7 MB/s eta 0:00:02█████████████████▌    | 428.4 MB 48.7 MB/s eta 0:00:02███████████████████████████▋    | 428.7 MB 48.7 MB/s eta 0:00:02     |███████████████████████████▊    | 430.5 MB 48.7 MB/s eta 0:00:02��█████▊    | 431.2 MB 48.7 MB/s eta 0:00:02    | 431.7 MB 48.7 MB/s eta 0:00:02████████    | 434.5 MB 48.7 MB/s eta 0:00:02██████████████████    | 434.8 MB 48.7 MB/s eta 0:00:02     |████████████████████████████▏   | 437.2 MB 48.7 MB/s eta 0:00:02     |████████████████████████████▎   | 439.4 MB 84.2 MB/s eta 0:00:01��████████████████▎   | 439.8 MB 84.2 MB/s eta 0:00:01| 443.3 MB 84.2 MB/s eta 0:00:01 |████████████████████████████▌   | 443.6 MB 84.2 MB/s eta 0:00:01     |████████████████████████████▊   | 446.7 MB 84.2 MB/s eta 0:00:01██████████▊   | 447.2 MB 84.2 MB/s eta 0:00:01███████████████████   | 449.5 MB 84.2 MB/s eta 0:00:01��█████   | 449.8 MB 84.2 MB/s eta 0:00:01     |█████████████████████████████   | 451.9 MB 84.2 MB/s eta 0:00:01███████████   | 452.3 MB 84.2 MB/s eta 0:00:01455.3 MB 84.2 MB/s eta 0:00:012.1 MB/s eta 0:00:04�██████████████▌  | 459.3 MB 12.1 MB/s eta 0:00:04461.0 MB 12.1 MB/s eta 0:00:04     |█████████████████████████████▊  | 462.6 MB 12.1 MB/s eta 0:00:03464.3 MB 12.1 MB/s eta 0:00:032.1 MB/s eta 0:00:03��██████████████▏ | 469.7 MB 12.1 MB/s eta 0:00:03��██████████████▍ | 472.4 MB 12.1 MB/s eta 0:00:03MB 12.1 MB/s eta 0:00:03��██████████████▌ | 474.8 MB 17.0 MB/s eta 0:00:02████▋ | 475.8 MB 17.0 MB/s eta 0:00:02��██████████████▊ | 477.5 MB 17.0 MB/s eta 0:00:02��███████████████ | 480.4 MB 17.0 MB/s eta 0:00:02�██████████ | 480.8 MB 17.0 MB/s eta 0:00:01��███████████████ | 482.9 MB 17.0 MB/s eta 0:00:01     |███████████████████████████████▏| 485.3 MB 17.0 MB/s eta 0:00:01███████████▎| 485.8 MB 17.0 MB/s eta 0:00:01��███████████▎| 486.1 MB 17.0 MB/s eta 0:00:0101     |███████████████████████████████▌| 489.4 MB 2.2 MB/s eta 0:00:04�█████████████████████████▋| 490.9 MB 2.2 MB/s eta 0:00:04�████████████████▋| 491.2 MB 2.2 MB/s eta 0:00:03�█████████████████████████▊| 493.2 MB 2.2 MB/s eta 0:00:02�████████████████▊| 493.5 MB 2.2 MB/s eta 0:00:02�█████████████████████████▉| 495.1 MB 2.2 MB/s eta 0:00:021�██████████████████████████| 497.6 MB 2.2 MB/s eta 0:00:01Requirement already satisfied: matplotlib in /usr/local/lib/python3.8/dist-packages (3.5.1)\n",
            "Requirement already satisfied: pillow>=6.2.0 in /usr/local/lib/python3.8/dist-packages (from matplotlib) (9.1.0)\n",
            "Requirement already satisfied: packaging>=20.0 in /usr/local/lib/python3.8/dist-packages (from matplotlib) (21.3)\n",
            "Requirement already satisfied: fonttools>=4.22.0 in /usr/local/lib/python3.8/dist-packages (from matplotlib) (4.31.2)\n",
            "Requirement already satisfied: numpy>=1.17 in /root/.local/lib/python3.8/site-packages (from matplotlib) (1.22.3)\n",
            "Requirement already satisfied: python-dateutil>=2.7 in /usr/local/lib/python3.8/dist-packages (from matplotlib) (2.8.2)\n",
            "Requirement already satisfied: pyparsing>=2.2.1 in /usr/local/lib/python3.8/dist-packages (from matplotlib) (3.0.7)\n",
            "Requirement already satisfied: kiwisolver>=1.0.1 in /usr/local/lib/python3.8/dist-packages (from matplotlib) (1.4.2)\n",
            "Requirement already satisfied: cycler>=0.10 in /usr/local/lib/python3.8/dist-packages (from matplotlib) (0.11.0)\n",
            "Requirement already satisfied: six>=1.5 in /usr/lib/python3/dist-packages (from python-dateutil>=2.7->matplotlib) (1.14.0)\n",
            "\u001b[31mERROR: You must give at least one requirement to install (see \"pip help install\")\u001b[0m\u001b[31m\n",
            "\u001b[0mdownloaded all packages\n"
          ]
        }
      ],
      "source": [
        "!pip install twint\n",
        "!pip install mysql-connector-python\n",
        "!pip install profanity-filter\n",
        "!pip install gdown\n",
        "\n",
        "!pip3 install --user --upgrade tensorflow --no-cache-dir # install in $HOME\n",
        "!pip install matplotlib\n",
        "!python3 -m pip install --upgrade \n",
        "print(\"downloaded all packages\")"
      ]
    },
    {
      "cell_type": "code",
      "execution_count": 9,
      "metadata": {},
      "outputs": [
        {
          "name": "stdout",
          "output_type": "stream",
          "text": [
            "\u001b[33mWARNING: Package(s) not found: tensorflow\u001b[0m\n",
            "\u001b[33mWARNING: Package(s) not found: tensorflow\u001b[0m\n"
          ]
        }
      ],
      "source": [
        "!pip3 show tensorflow\n",
        "!pip show tensorflow"
      ]
    },
    {
      "cell_type": "code",
      "execution_count": 7,
      "metadata": {
        "id": "J4I1Mx8PZget"
      },
      "outputs": [],
      "source": [
        "def url_to_id(url):\n",
        "    x = url.split(\"/\")\n",
        "    return x[5]"
      ]
    },
    {
      "cell_type": "code",
      "execution_count": 3,
      "metadata": {
        "colab": {
          "base_uri": "https://localhost:8080/"
        },
        "id": "q8mRJMHoYFAO",
        "outputId": "b41cc859-7aa0-42dc-c411-200d501e0bae"
      },
      "outputs": [
        {
          "name": "stderr",
          "output_type": "stream",
          "text": [
            "/usr/lib/python3/dist-packages/requests/__init__.py:89: RequestsDependencyWarning: urllib3 (1.26.9) or chardet (3.0.4) doesn't match a supported version!\n",
            "  warnings.warn(\"urllib3 ({}) or chardet ({}) doesn't match a supported \"\n",
            "Downloading...\n",
            "From: https://drive.google.com/uc?id=13PNVnsOxBFaESH24lvZa1kXadYLpmmwB\n",
            "To: /root/twitter_scrapper_main/binary_classes.json\n",
            "100%|██████████| 30.0/30.0 [00:00<00:00, 40.8kB/s]\n",
            "Downloading...\n",
            "From: https://drive.google.com/uc?id=1tsDe1q39_BQTc_J2c4JKld0JDhKVTWTG\n",
            "To: /root/twitter_scrapper_main/multi_classes.json\n",
            "100%|██████████| 1.60k/1.60k [00:00<00:00, 2.02MB/s]"
          ]
        },
        {
          "name": "stdout",
          "output_type": "stream",
          "text": [
            "\n",
            "Done downloading all classes\n",
            "\n"
          ]
        },
        {
          "name": "stderr",
          "output_type": "stream",
          "text": [
            "\n"
          ]
        }
      ],
      "source": [
        "import gdown\n",
        "id_binary = url_to_id(\"https://drive.google.com/file/d/13PNVnsOxBFaESH24lvZa1kXadYLpmmwB/view?usp=sharing\")\n",
        "id_multi = url_to_id(\"https://drive.google.com/file/d/1tsDe1q39_BQTc_J2c4JKld0JDhKVTWTG/view?usp=sharing\")\n",
        "url = f'https://drive.google.com/uc?id={id_binary}'\n",
        "output_binary = 'binary_classes.json'\n",
        "gdown.download(url, output_binary, quiet=False)\n",
        "\n",
        "url = f'https://drive.google.com/uc?id={id_multi}'\n",
        "output_multi = 'multi_classes.json'\n",
        "gdown.download(url, output_multi, quiet=False)\n",
        "\n",
        "print(\"\\nDone downloading all classes\\n\")"
      ]
    },
    {
      "cell_type": "code",
      "execution_count": 4,
      "metadata": {
        "colab": {
          "base_uri": "https://localhost:8080/"
        },
        "id": "EEfNEPKnUtcc",
        "outputId": "bc60bb22-c37d-409a-a4a0-a08cb459b0da"
      },
      "outputs": [
        {
          "name": "stdout",
          "output_type": "stream",
          "text": [
            "\n",
            "Done downloading all models\n",
            "\n"
          ]
        }
      ],
      "source": [
        "\n",
        "from urllib import request\n",
        "# Define the remote file to retrieve\n",
        "remote_url = \"https://drive.google.com/uc?id=1XKD1hRlBYaKUVhCJ5UivgT3465LWhFc4&confirm=t\"\n",
        "# Define the local filename to save data\n",
        "output_binary = 'binary_classes.zip'\n",
        "# Download remote and save locally\n",
        "request.urlretrieve(remote_url, output_binary)\n",
        "\n",
        "# Define the remote file to retrieve\n",
        "remote_url = \"https://drive.google.com/uc?id=1vUKZjJCQxkB7M_WiH5oPNLqwWwifgH43&confirm=t\"\n",
        "# Define the local filename to save data\n",
        "output_multi = 'multi_classes.zip'\n",
        "# Download remote and save locally\n",
        "request.urlretrieve(remote_url, output_multi)\n",
        "\n",
        "print(\"\\nDone downloading all models\\n\")"
      ]
    },
    {
      "cell_type": "code",
      "execution_count": 5,
      "metadata": {
        "colab": {
          "base_uri": "https://localhost:8080/"
        },
        "id": "SOOS3OqsfVII",
        "outputId": "736393f7-d6c5-4869-9fdb-a5dd61a51257"
      },
      "outputs": [
        {
          "name": "stdout",
          "output_type": "stream",
          "text": [
            "Archive:  binary_classes.zip\n",
            "   creating: binary_class_save0.96875acc/assets/\n",
            "  inflating: binary_class_save0.96875acc/keras_metadata.pb  \n",
            "  inflating: binary_class_save0.96875acc/saved_model.pb  \n",
            "  inflating: binary_class_save0.96875acc/variables/variables.index  \n",
            "  inflating: binary_class_save0.96875acc/variables/variables.data-00000-of-00001  \n",
            "Archive:  multi_classes.zip\n",
            "   creating: save0.6137499809265137acc/assets/\n",
            "  inflating: save0.6137499809265137acc/keras_metadata.pb  \n",
            "  inflating: save0.6137499809265137acc/variables/variables.index  \n",
            "  inflating: save0.6137499809265137acc/saved_model.pb  \n",
            "  inflating: save0.6137499809265137acc/variables/variables.data-00000-of-00001  \n"
          ]
        }
      ],
      "source": [
        "!unzip \"{output_binary}\"\n",
        "!unzip \"{output_multi}\""
      ]
    },
    {
      "cell_type": "code",
      "execution_count": 1,
      "metadata": {},
      "outputs": [
        {
          "name": "stderr",
          "output_type": "stream",
          "text": [
            "/usr/lib/python3/dist-packages/requests/__init__.py:89: RequestsDependencyWarning: urllib3 (1.26.9) or chardet (3.0.4) doesn't match a supported version!\n",
            "  warnings.warn(\"urllib3 ({}) or chardet ({}) doesn't match a supported \"\n",
            "2022-04-06 21:59:49.028804: W tensorflow/stream_executor/platform/default/dso_loader.cc:64] Could not load dynamic library 'libcudart.so.11.0'; dlerror: libcudart.so.11.0: cannot open shared object file: No such file or directory\n",
            "2022-04-06 21:59:49.028867: I tensorflow/stream_executor/cuda/cudart_stub.cc:29] Ignore above cudart dlerror if you do not have a GPU set up on your machine.\n"
          ]
        },
        {
          "name": "stdout",
          "output_type": "stream",
          "text": [
            "#restaurant3 OR @restaurant3 OR #restaurant3Event OR \n",
            "Scraping Twitter\n"
          ]
        },
        {
          "ename": "RuntimeError",
          "evalue": "This event loop is already running",
          "output_type": "error",
          "traceback": [
            "\u001b[0;31m---------------------------------------------------------------------------\u001b[0m",
            "\u001b[0;31mRuntimeError\u001b[0m                              Traceback (most recent call last)",
            "File \u001b[0;32m~/twitter_scrapper_main/main_routine.py:9\u001b[0m, in \u001b[0;36m<module>\u001b[0;34m\u001b[0m\n\u001b[1;32m      <a href='file:///root/twitter_scrapper_main/main_routine.py?line=4'>5</a>\u001b[0m     scrapper\u001b[39m.\u001b[39mmain()\n\u001b[1;32m      <a href='file:///root/twitter_scrapper_main/main_routine.py?line=7'>8</a>\u001b[0m \u001b[39mif\u001b[39;00m \u001b[39m__name__\u001b[39m \u001b[39m==\u001b[39m \u001b[39m\"\u001b[39m\u001b[39m__main__\u001b[39m\u001b[39m\"\u001b[39m:\n\u001b[0;32m----> <a href='file:///root/twitter_scrapper_main/main_routine.py?line=8'>9</a>\u001b[0m     main()\n",
            "File \u001b[0;32m~/twitter_scrapper_main/main_routine.py:5\u001b[0m, in \u001b[0;36mmain\u001b[0;34m()\u001b[0m\n\u001b[1;32m      <a href='file:///root/twitter_scrapper_main/main_routine.py?line=3'>4</a>\u001b[0m \u001b[39mdef\u001b[39;00m \u001b[39mmain\u001b[39m():\n\u001b[0;32m----> <a href='file:///root/twitter_scrapper_main/main_routine.py?line=4'>5</a>\u001b[0m     scrapper\u001b[39m.\u001b[39;49mmain()\n",
            "File \u001b[0;32m~/twitter_scrapper_main/scrapper.py:29\u001b[0m, in \u001b[0;36mmain\u001b[0;34m()\u001b[0m\n\u001b[1;32m     <a href='file:///root/twitter_scrapper_main/scrapper.py?line=22'>23</a>\u001b[0m mydb\u001b[39m.\u001b[39mclose()\n\u001b[1;32m     <a href='file:///root/twitter_scrapper_main/scrapper.py?line=24'>25</a>\u001b[0m \u001b[39m#if updated_search_list != \"\":\u001b[39;00m\n\u001b[1;32m     <a href='file:///root/twitter_scrapper_main/scrapper.py?line=25'>26</a>\u001b[0m     \u001b[39m#scrap_twitter_routine(search = updated_search_list)\u001b[39;00m\n\u001b[1;32m     <a href='file:///root/twitter_scrapper_main/scrapper.py?line=26'>27</a>\u001b[0m \u001b[39m#else:  \u001b[39;00m\n\u001b[0;32m---> <a href='file:///root/twitter_scrapper_main/scrapper.py?line=28'>29</a>\u001b[0m scrap_twitter_routine()\n",
            "File \u001b[0;32m~/twitter_scrapper_main/twitter_functions.py:112\u001b[0m, in \u001b[0;36mscrap_twitter_routine\u001b[0;34m(search, previous_search_time)\u001b[0m\n\u001b[1;32m    <a href='file:///root/twitter_scrapper_main/twitter_functions.py?line=108'>109</a>\u001b[0m os\u001b[39m.\u001b[39mmakedirs(os\u001b[39m.\u001b[39mpath\u001b[39m.\u001b[39mdirname(filename), exist_ok\u001b[39m=\u001b[39m\u001b[39mTrue\u001b[39;00m)\n\u001b[1;32m    <a href='file:///root/twitter_scrapper_main/twitter_functions.py?line=110'>111</a>\u001b[0m \u001b[39mprint\u001b[39m(\u001b[39m\"\u001b[39m\u001b[39mScraping Twitter\u001b[39m\u001b[39m\"\u001b[39m)\n\u001b[0;32m--> <a href='file:///root/twitter_scrapper_main/twitter_functions.py?line=111'>112</a>\u001b[0m scrape(search, previous_search_time, current_time, filename)\n\u001b[1;32m    <a href='file:///root/twitter_scrapper_main/twitter_functions.py?line=113'>114</a>\u001b[0m unformatted_tweets \u001b[39m=\u001b[39m read_JSON(filename)\n\u001b[1;32m    <a href='file:///root/twitter_scrapper_main/twitter_functions.py?line=115'>116</a>\u001b[0m \u001b[39m#delete the temp file        \u001b[39;00m\n",
            "File \u001b[0;32m~/twitter_scrapper_main/twitter_functions.py:43\u001b[0m, in \u001b[0;36mscrape\u001b[0;34m(search, previous_search_time, search_to, filename)\u001b[0m\n\u001b[1;32m     <a href='file:///root/twitter_scrapper_main/twitter_functions.py?line=39'>40</a>\u001b[0m config\u001b[39m.\u001b[39mStore_json \u001b[39m=\u001b[39m \u001b[39mTrue\u001b[39;00m\n\u001b[1;32m     <a href='file:///root/twitter_scrapper_main/twitter_functions.py?line=40'>41</a>\u001b[0m config\u001b[39m.\u001b[39mOutput \u001b[39m=\u001b[39m filename\n\u001b[0;32m---> <a href='file:///root/twitter_scrapper_main/twitter_functions.py?line=42'>43</a>\u001b[0m \u001b[39mprint\u001b[39m(twint\u001b[39m.\u001b[39;49mrun\u001b[39m.\u001b[39;49mSearch(config))\n",
            "File \u001b[0;32m~/.local/lib/python3.8/site-packages/twint/run.py:410\u001b[0m, in \u001b[0;36mSearch\u001b[0;34m(config, callback)\u001b[0m\n\u001b[1;32m    <a href='file:///root/.local/lib/python3.8/site-packages/twint/run.py?line=407'>408</a>\u001b[0m config\u001b[39m.\u001b[39mFollowers \u001b[39m=\u001b[39m \u001b[39mFalse\u001b[39;00m\n\u001b[1;32m    <a href='file:///root/.local/lib/python3.8/site-packages/twint/run.py?line=408'>409</a>\u001b[0m config\u001b[39m.\u001b[39mProfile \u001b[39m=\u001b[39m \u001b[39mFalse\u001b[39;00m\n\u001b[0;32m--> <a href='file:///root/.local/lib/python3.8/site-packages/twint/run.py?line=409'>410</a>\u001b[0m run(config, callback)\n\u001b[1;32m    <a href='file:///root/.local/lib/python3.8/site-packages/twint/run.py?line=410'>411</a>\u001b[0m \u001b[39mif\u001b[39;00m config\u001b[39m.\u001b[39mPandas_au:\n\u001b[1;32m    <a href='file:///root/.local/lib/python3.8/site-packages/twint/run.py?line=411'>412</a>\u001b[0m     storage\u001b[39m.\u001b[39mpanda\u001b[39m.\u001b[39m_autoget(\u001b[39m\"\u001b[39m\u001b[39mtweet\u001b[39m\u001b[39m\"\u001b[39m)\n",
            "File \u001b[0;32m~/.local/lib/python3.8/site-packages/twint/run.py:329\u001b[0m, in \u001b[0;36mrun\u001b[0;34m(config, callback)\u001b[0m\n\u001b[1;32m    <a href='file:///root/.local/lib/python3.8/site-packages/twint/run.py?line=324'>325</a>\u001b[0m     logme\u001b[39m.\u001b[39mexception(\n\u001b[1;32m    <a href='file:///root/.local/lib/python3.8/site-packages/twint/run.py?line=325'>326</a>\u001b[0m         \u001b[39m__name__\u001b[39m \u001b[39m+\u001b[39m \u001b[39m'\u001b[39m\u001b[39m:run:Unexpected exception occurred while attempting to get or create a new event loop.\u001b[39m\u001b[39m'\u001b[39m)\n\u001b[1;32m    <a href='file:///root/.local/lib/python3.8/site-packages/twint/run.py?line=326'>327</a>\u001b[0m     \u001b[39mraise\u001b[39;00m\n\u001b[0;32m--> <a href='file:///root/.local/lib/python3.8/site-packages/twint/run.py?line=328'>329</a>\u001b[0m get_event_loop()\u001b[39m.\u001b[39;49mrun_until_complete(Twint(config)\u001b[39m.\u001b[39;49mmain(callback))\n",
            "File \u001b[0;32m/usr/lib/python3.8/asyncio/base_events.py:592\u001b[0m, in \u001b[0;36mBaseEventLoop.run_until_complete\u001b[0;34m(self, future)\u001b[0m\n\u001b[1;32m    <a href='file:///usr/lib/python3.8/asyncio/base_events.py?line=580'>581</a>\u001b[0m \u001b[39m\"\"\"Run until the Future is done.\u001b[39;00m\n\u001b[1;32m    <a href='file:///usr/lib/python3.8/asyncio/base_events.py?line=581'>582</a>\u001b[0m \n\u001b[1;32m    <a href='file:///usr/lib/python3.8/asyncio/base_events.py?line=582'>583</a>\u001b[0m \u001b[39mIf the argument is a coroutine, it is wrapped in a Task.\u001b[39;00m\n\u001b[0;32m   (...)\u001b[0m\n\u001b[1;32m    <a href='file:///usr/lib/python3.8/asyncio/base_events.py?line=588'>589</a>\u001b[0m \u001b[39mReturn the Future's result, or raise its exception.\u001b[39;00m\n\u001b[1;32m    <a href='file:///usr/lib/python3.8/asyncio/base_events.py?line=589'>590</a>\u001b[0m \u001b[39m\"\"\"\u001b[39;00m\n\u001b[1;32m    <a href='file:///usr/lib/python3.8/asyncio/base_events.py?line=590'>591</a>\u001b[0m \u001b[39mself\u001b[39m\u001b[39m.\u001b[39m_check_closed()\n\u001b[0;32m--> <a href='file:///usr/lib/python3.8/asyncio/base_events.py?line=591'>592</a>\u001b[0m \u001b[39mself\u001b[39;49m\u001b[39m.\u001b[39;49m_check_running()\n\u001b[1;32m    <a href='file:///usr/lib/python3.8/asyncio/base_events.py?line=593'>594</a>\u001b[0m new_task \u001b[39m=\u001b[39m \u001b[39mnot\u001b[39;00m futures\u001b[39m.\u001b[39misfuture(future)\n\u001b[1;32m    <a href='file:///usr/lib/python3.8/asyncio/base_events.py?line=594'>595</a>\u001b[0m future \u001b[39m=\u001b[39m tasks\u001b[39m.\u001b[39mensure_future(future, loop\u001b[39m=\u001b[39m\u001b[39mself\u001b[39m)\n",
            "File \u001b[0;32m/usr/lib/python3.8/asyncio/base_events.py:552\u001b[0m, in \u001b[0;36mBaseEventLoop._check_running\u001b[0;34m(self)\u001b[0m\n\u001b[1;32m    <a href='file:///usr/lib/python3.8/asyncio/base_events.py?line=549'>550</a>\u001b[0m \u001b[39mdef\u001b[39;00m \u001b[39m_check_running\u001b[39m(\u001b[39mself\u001b[39m):\n\u001b[1;32m    <a href='file:///usr/lib/python3.8/asyncio/base_events.py?line=550'>551</a>\u001b[0m     \u001b[39mif\u001b[39;00m \u001b[39mself\u001b[39m\u001b[39m.\u001b[39mis_running():\n\u001b[0;32m--> <a href='file:///usr/lib/python3.8/asyncio/base_events.py?line=551'>552</a>\u001b[0m         \u001b[39mraise\u001b[39;00m \u001b[39mRuntimeError\u001b[39;00m(\u001b[39m'\u001b[39m\u001b[39mThis event loop is already running\u001b[39m\u001b[39m'\u001b[39m)\n\u001b[1;32m    <a href='file:///usr/lib/python3.8/asyncio/base_events.py?line=552'>553</a>\u001b[0m     \u001b[39mif\u001b[39;00m events\u001b[39m.\u001b[39m_get_running_loop() \u001b[39mis\u001b[39;00m \u001b[39mnot\u001b[39;00m \u001b[39mNone\u001b[39;00m:\n\u001b[1;32m    <a href='file:///usr/lib/python3.8/asyncio/base_events.py?line=553'>554</a>\u001b[0m         \u001b[39mraise\u001b[39;00m \u001b[39mRuntimeError\u001b[39;00m(\n\u001b[1;32m    <a href='file:///usr/lib/python3.8/asyncio/base_events.py?line=554'>555</a>\u001b[0m             \u001b[39m'\u001b[39m\u001b[39mCannot run the event loop while another loop is running\u001b[39m\u001b[39m'\u001b[39m)\n",
            "\u001b[0;31mRuntimeError\u001b[0m: This event loop is already running"
          ]
        }
      ],
      "source": [
        "#%run main_routine.py"
      ]
    }
  ],
  "metadata": {
    "colab": {
      "collapsed_sections": [],
      "name": "test labeling",
      "provenance": []
    },
    "kernelspec": {
      "display_name": "Python 3",
      "name": "python3"
    },
    "language_info": {
      "codemirror_mode": {
        "name": "ipython",
        "version": 3
      },
      "file_extension": ".py",
      "mimetype": "text/x-python",
      "name": "python",
      "nbconvert_exporter": "python",
      "pygments_lexer": "ipython3",
      "version": "3.8.10"
    }
  },
  "nbformat": 4,
  "nbformat_minor": 0
}
