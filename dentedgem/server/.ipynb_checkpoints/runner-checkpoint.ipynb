{
 "cells": [
  {
   "cell_type": "code",
   "execution_count": 1,
   "id": "f0b6c2cb-6eee-400b-b225-b2153c59de11",
   "metadata": {},
   "outputs": [],
   "source": [
    "import nest_asyncio\n",
    "\n",
    "nest_asyncio.apply()"
   ]
  },
  {
   "cell_type": "code",
   "execution_count": 3,
   "id": "45e61239-870b-45c1-8a9a-c0320f4be114",
   "metadata": {},
   "outputs": [
    {
     "name": "stdout",
     "output_type": "stream",
     "text": [
      "Requirement already satisfied: profanity-filter in /home/jupyter/.local/lib/python3.9/site-packages (1.3.3)\n",
      "Requirement already satisfied: cached-property<2.0,>=1.5 in /opt/conda/lib/python3.9/site-packages (from profanity-filter) (1.5.2)\n",
      "Requirement already satisfied: spacy<3.0,>=2.0 in /home/jupyter/.local/lib/python3.9/site-packages (from profanity-filter) (2.3.7)\n",
      "Requirement already satisfied: poetry-version<0.2.0,>=0.1.3 in /home/jupyter/.local/lib/python3.9/site-packages (from profanity-filter) (0.1.5)\n",
      "Requirement already satisfied: more-itertools<9.0,>=8.0 in /opt/conda/lib/python3.9/site-packages (from profanity-filter) (8.12.0)\n",
      "Requirement already satisfied: pydantic<2.0,>=1.3 in /opt/conda/lib/python3.9/site-packages (from profanity-filter) (1.9.0)\n",
      "Requirement already satisfied: ordered-set-stubs<0.2.0,>=0.1.3 in /home/jupyter/.local/lib/python3.9/site-packages (from profanity-filter) (0.1.3)\n",
      "Requirement already satisfied: ordered-set<4.0,>=3.0 in /home/jupyter/.local/lib/python3.9/site-packages (from profanity-filter) (3.1.1)\n",
      "Requirement already satisfied: ruamel.yaml<0.16.0,>=0.15.89 in /home/jupyter/.local/lib/python3.9/site-packages (from profanity-filter) (0.15.100)\n",
      "Requirement already satisfied: redis<4.0,>=3.2 in /home/jupyter/.local/lib/python3.9/site-packages (from profanity-filter) (3.5.3)\n",
      "Requirement already satisfied: tomlkit<0.6.0,>=0.4.6 in /home/jupyter/.local/lib/python3.9/site-packages (from poetry-version<0.2.0,>=0.1.3->profanity-filter) (0.5.11)\n",
      "Requirement already satisfied: typing-extensions>=3.7.4.3 in /opt/conda/lib/python3.9/site-packages (from pydantic<2.0,>=1.3->profanity-filter) (4.0.1)\n",
      "Requirement already satisfied: numpy>=1.15.0 in /opt/conda/lib/python3.9/site-packages (from spacy<3.0,>=2.0->profanity-filter) (1.20.3)\n",
      "Requirement already satisfied: wasabi<1.1.0,>=0.4.0 in /home/jupyter/.local/lib/python3.9/site-packages (from spacy<3.0,>=2.0->profanity-filter) (0.9.0)\n",
      "Requirement already satisfied: plac<1.2.0,>=0.9.6 in /home/jupyter/.local/lib/python3.9/site-packages (from spacy<3.0,>=2.0->profanity-filter) (1.1.3)\n",
      "Requirement already satisfied: thinc<7.5.0,>=7.4.1 in /home/jupyter/.local/lib/python3.9/site-packages (from spacy<3.0,>=2.0->profanity-filter) (7.4.5)\n",
      "Requirement already satisfied: catalogue<1.1.0,>=0.0.7 in /home/jupyter/.local/lib/python3.9/site-packages (from spacy<3.0,>=2.0->profanity-filter) (1.0.0)\n",
      "Requirement already satisfied: requests<3.0.0,>=2.13.0 in /opt/conda/lib/python3.9/site-packages (from spacy<3.0,>=2.0->profanity-filter) (2.26.0)\n",
      "Requirement already satisfied: preshed<3.1.0,>=3.0.2 in /home/jupyter/.local/lib/python3.9/site-packages (from spacy<3.0,>=2.0->profanity-filter) (3.0.6)\n",
      "Requirement already satisfied: blis<0.8.0,>=0.4.0 in /home/jupyter/.local/lib/python3.9/site-packages (from spacy<3.0,>=2.0->profanity-filter) (0.7.6)\n",
      "Requirement already satisfied: tqdm<5.0.0,>=4.38.0 in /opt/conda/lib/python3.9/site-packages (from spacy<3.0,>=2.0->profanity-filter) (4.62.3)\n",
      "Requirement already satisfied: cymem<2.1.0,>=2.0.2 in /home/jupyter/.local/lib/python3.9/site-packages (from spacy<3.0,>=2.0->profanity-filter) (2.0.6)\n",
      "Requirement already satisfied: murmurhash<1.1.0,>=0.28.0 in /home/jupyter/.local/lib/python3.9/site-packages (from spacy<3.0,>=2.0->profanity-filter) (1.0.6)\n",
      "Requirement already satisfied: setuptools in /opt/conda/lib/python3.9/site-packages (from spacy<3.0,>=2.0->profanity-filter) (60.2.0)\n",
      "Requirement already satisfied: srsly<1.1.0,>=1.0.2 in /home/jupyter/.local/lib/python3.9/site-packages (from spacy<3.0,>=2.0->profanity-filter) (1.0.5)\n",
      "Requirement already satisfied: idna<4,>=2.5 in /opt/conda/lib/python3.9/site-packages (from requests<3.0.0,>=2.13.0->spacy<3.0,>=2.0->profanity-filter) (3.1)\n",
      "Requirement already satisfied: charset-normalizer~=2.0.0 in /opt/conda/lib/python3.9/site-packages (from requests<3.0.0,>=2.13.0->spacy<3.0,>=2.0->profanity-filter) (2.0.9)\n",
      "Requirement already satisfied: certifi>=2017.4.17 in /opt/conda/lib/python3.9/site-packages (from requests<3.0.0,>=2.13.0->spacy<3.0,>=2.0->profanity-filter) (2021.10.8)\n",
      "Requirement already satisfied: urllib3<1.27,>=1.21.1 in /home/jupyter/.local/lib/python3.9/site-packages (from requests<3.0.0,>=2.13.0->spacy<3.0,>=2.0->profanity-filter) (1.26.8)\n",
      "Collecting en_core_web_sm==2.3.1\n",
      "  Using cached en_core_web_sm-2.3.1-py3-none-any.whl\n",
      "Requirement already satisfied: spacy<2.4.0,>=2.3.0 in /home/jupyter/.local/lib/python3.9/site-packages (from en_core_web_sm==2.3.1) (2.3.7)\n",
      "Requirement already satisfied: tqdm<5.0.0,>=4.38.0 in /opt/conda/lib/python3.9/site-packages (from spacy<2.4.0,>=2.3.0->en_core_web_sm==2.3.1) (4.62.3)\n",
      "Requirement already satisfied: requests<3.0.0,>=2.13.0 in /opt/conda/lib/python3.9/site-packages (from spacy<2.4.0,>=2.3.0->en_core_web_sm==2.3.1) (2.26.0)\n",
      "Requirement already satisfied: setuptools in /opt/conda/lib/python3.9/site-packages (from spacy<2.4.0,>=2.3.0->en_core_web_sm==2.3.1) (60.2.0)\n",
      "Requirement already satisfied: cymem<2.1.0,>=2.0.2 in /home/jupyter/.local/lib/python3.9/site-packages (from spacy<2.4.0,>=2.3.0->en_core_web_sm==2.3.1) (2.0.6)\n",
      "Requirement already satisfied: blis<0.8.0,>=0.4.0 in /home/jupyter/.local/lib/python3.9/site-packages (from spacy<2.4.0,>=2.3.0->en_core_web_sm==2.3.1) (0.7.6)\n",
      "Requirement already satisfied: wasabi<1.1.0,>=0.4.0 in /home/jupyter/.local/lib/python3.9/site-packages (from spacy<2.4.0,>=2.3.0->en_core_web_sm==2.3.1) (0.9.0)\n",
      "Requirement already satisfied: srsly<1.1.0,>=1.0.2 in /home/jupyter/.local/lib/python3.9/site-packages (from spacy<2.4.0,>=2.3.0->en_core_web_sm==2.3.1) (1.0.5)\n",
      "Requirement already satisfied: preshed<3.1.0,>=3.0.2 in /home/jupyter/.local/lib/python3.9/site-packages (from spacy<2.4.0,>=2.3.0->en_core_web_sm==2.3.1) (3.0.6)\n",
      "Requirement already satisfied: plac<1.2.0,>=0.9.6 in /home/jupyter/.local/lib/python3.9/site-packages (from spacy<2.4.0,>=2.3.0->en_core_web_sm==2.3.1) (1.1.3)\n",
      "Requirement already satisfied: numpy>=1.15.0 in /opt/conda/lib/python3.9/site-packages (from spacy<2.4.0,>=2.3.0->en_core_web_sm==2.3.1) (1.20.3)\n",
      "Requirement already satisfied: thinc<7.5.0,>=7.4.1 in /home/jupyter/.local/lib/python3.9/site-packages (from spacy<2.4.0,>=2.3.0->en_core_web_sm==2.3.1) (7.4.5)\n",
      "Requirement already satisfied: catalogue<1.1.0,>=0.0.7 in /home/jupyter/.local/lib/python3.9/site-packages (from spacy<2.4.0,>=2.3.0->en_core_web_sm==2.3.1) (1.0.0)\n",
      "Requirement already satisfied: murmurhash<1.1.0,>=0.28.0 in /home/jupyter/.local/lib/python3.9/site-packages (from spacy<2.4.0,>=2.3.0->en_core_web_sm==2.3.1) (1.0.6)\n",
      "Requirement already satisfied: urllib3<1.27,>=1.21.1 in /home/jupyter/.local/lib/python3.9/site-packages (from requests<3.0.0,>=2.13.0->spacy<2.4.0,>=2.3.0->en_core_web_sm==2.3.1) (1.26.8)\n",
      "Requirement already satisfied: charset-normalizer~=2.0.0 in /opt/conda/lib/python3.9/site-packages (from requests<3.0.0,>=2.13.0->spacy<2.4.0,>=2.3.0->en_core_web_sm==2.3.1) (2.0.9)\n",
      "Requirement already satisfied: idna<4,>=2.5 in /opt/conda/lib/python3.9/site-packages (from requests<3.0.0,>=2.13.0->spacy<2.4.0,>=2.3.0->en_core_web_sm==2.3.1) (3.1)\n",
      "Requirement already satisfied: certifi>=2017.4.17 in /opt/conda/lib/python3.9/site-packages (from requests<3.0.0,>=2.13.0->spacy<2.4.0,>=2.3.0->en_core_web_sm==2.3.1) (2021.10.8)\n",
      "Installing collected packages: en-core-web-sm\n",
      "Successfully installed en-core-web-sm-2.3.1\n",
      "\u001b[38;5;2m✔ Download and installation successful\u001b[0m\n",
      "You can now load the model via spacy.load('en_core_web_sm')\n",
      "\u001b[38;5;2m✔ Linking successful\u001b[0m\n",
      "/opt/conda/lib/python3.9/site-packages/en_core_web_sm -->\n",
      "/home/jupyter/.local/lib/python3.9/site-packages/spacy/data/en\n",
      "You can now load the model via spacy.load('en')\n",
      "Requirement already satisfied: mysql-connector-python in /home/jupyter/.local/lib/python3.9/site-packages (8.0.28)\n",
      "Requirement already satisfied: protobuf>=3.0.0 in /opt/conda/lib/python3.9/site-packages (from mysql-connector-python) (3.19.1)\n"
     ]
    }
   ],
   "source": [
    "#this is the caption filter\n",
    "!pip install --user profanity-filter\n",
    "!python -m spacy download en\n",
    "!pip install mysql-connector-python"
   ]
  },
  {
   "cell_type": "code",
   "execution_count": 5,
   "id": "4cc7695b-d748-49cb-b76b-c95aa8628bc1",
   "metadata": {},
   "outputs": [
    {
     "name": "stdout",
     "output_type": "stream",
     "text": [
      "START Scrappping\n",
      "#restaurant1 OR @restaurant1 OR \n",
      "Scraping Twitter\n",
      "[!] No more data! Scraping will stop now.\n",
      "found 0 deleted tweets in this search.\n",
      "None\n",
      "done\n",
      "Done Scrappping\n",
      "START: database updates\n",
      "START: database INSERT\n",
      "DONE: database INSERT\n",
      "Start: censorship\n",
      "Amount Censored: 0\n",
      "Done: censorship\n",
      "DONE: database updates\n"
     ]
    }
   ],
   "source": [
    "%run scrapper.py"
   ]
  },
  {
   "cell_type": "code",
   "execution_count": 3,
   "id": "5e08e00c-c70a-47f7-977b-276f31a086dc",
   "metadata": {},
   "outputs": [
    {
     "name": "stdout",
     "output_type": "stream",
     "text": [
      "unzip:  cannot find or open CPEN_391/run_this/model/save48.zip, CPEN_391/run_this/model/save48.zip.zip or CPEN_391/run_this/model/save48.zip.ZIP.\n"
     ]
    }
   ],
   "source": [
    "!unzip  CPEN_391/run_this/model/save48.zip"
   ]
  },
  {
   "cell_type": "code",
   "execution_count": 10,
   "id": "8b13131b-669d-48dc-897f-f5f274272dcb",
   "metadata": {},
   "outputs": [],
   "source": [
    "import zipfile\n",
    "with zipfile.ZipFile('model/save48.zip', 'r') as zip_ref:\n",
    "    zip_ref.extractall('model/save')"
   ]
  },
  {
   "cell_type": "code",
   "execution_count": 30,
   "id": "798b5374-3ceb-4613-b7fa-be3c6401404d",
   "metadata": {},
   "outputs": [
    {
     "ename": "ModuleNotFoundError",
     "evalue": "No module named 'tensorflow'",
     "output_type": "error",
     "traceback": [
      "\u001b[0;31m---------------------------------------------------------------------------\u001b[0m",
      "\u001b[0;31mModuleNotFoundError\u001b[0m                       Traceback (most recent call last)",
      "\u001b[0;32m~/CPEN_391/run_this/labeling.py\u001b[0m in \u001b[0;36m<module>\u001b[0;34m\u001b[0m\n\u001b[1;32m      6\u001b[0m \u001b[0;32mfrom\u001b[0m \u001b[0mprofanity_filter\u001b[0m \u001b[0;32mimport\u001b[0m \u001b[0mProfanityFilter\u001b[0m\u001b[0;34m\u001b[0m\u001b[0;34m\u001b[0m\u001b[0m\n\u001b[1;32m      7\u001b[0m \u001b[0;34m\u001b[0m\u001b[0m\n\u001b[0;32m----> 8\u001b[0;31m \u001b[0;32mimport\u001b[0m \u001b[0mkeras\u001b[0m\u001b[0;34m\u001b[0m\u001b[0;34m\u001b[0m\u001b[0m\n\u001b[0m\u001b[1;32m      9\u001b[0m \u001b[0;32mimport\u001b[0m \u001b[0mtensorflow\u001b[0m \u001b[0;32mas\u001b[0m \u001b[0mtf\u001b[0m\u001b[0;34m\u001b[0m\u001b[0;34m\u001b[0m\u001b[0m\n\u001b[1;32m     10\u001b[0m \u001b[0;32mimport\u001b[0m \u001b[0mmatplotlib\u001b[0m\u001b[0;34m.\u001b[0m\u001b[0mpyplot\u001b[0m \u001b[0;32mas\u001b[0m \u001b[0mplt\u001b[0m\u001b[0;34m\u001b[0m\u001b[0;34m\u001b[0m\u001b[0m\n",
      "\u001b[0;32m/opt/conda/lib/python3.9/site-packages/keras/__init__.py\u001b[0m in \u001b[0;36m<module>\u001b[0;34m\u001b[0m\n\u001b[1;32m     19\u001b[0m \"\"\"\n\u001b[1;32m     20\u001b[0m \u001b[0;31m# pylint: disable=unused-import\u001b[0m\u001b[0;34m\u001b[0m\u001b[0;34m\u001b[0m\u001b[0m\n\u001b[0;32m---> 21\u001b[0;31m \u001b[0;32mfrom\u001b[0m \u001b[0mtensorflow\u001b[0m\u001b[0;34m.\u001b[0m\u001b[0mpython\u001b[0m \u001b[0;32mimport\u001b[0m \u001b[0mtf2\u001b[0m\u001b[0;34m\u001b[0m\u001b[0;34m\u001b[0m\u001b[0m\n\u001b[0m\u001b[1;32m     22\u001b[0m \u001b[0;32mfrom\u001b[0m \u001b[0mkeras\u001b[0m \u001b[0;32mimport\u001b[0m \u001b[0mdistribute\u001b[0m\u001b[0;34m\u001b[0m\u001b[0;34m\u001b[0m\u001b[0m\n\u001b[1;32m     23\u001b[0m \u001b[0;34m\u001b[0m\u001b[0m\n",
      "\u001b[0;31mModuleNotFoundError\u001b[0m: No module named 'tensorflow'"
     ]
    }
   ],
   "source": [
    "%run labeling.py"
   ]
  },
  {
   "cell_type": "code",
   "execution_count": null,
   "id": "290d1bf8-6765-40c3-b35d-bad0cfa428bf",
   "metadata": {},
   "outputs": [],
   "source": []
  },
  {
   "cell_type": "code",
   "execution_count": null,
   "id": "8a1305a0-9f6e-40e8-ad17-377ea08e1168",
   "metadata": {},
   "outputs": [],
   "source": []
  }
 ],
 "metadata": {
  "kernelspec": {
   "display_name": "Python 3 (ipykernel)",
   "language": "python",
   "name": "python3"
  },
  "language_info": {
   "codemirror_mode": {
    "name": "ipython",
    "version": 3
   },
   "file_extension": ".py",
   "mimetype": "text/x-python",
   "name": "python",
   "nbconvert_exporter": "python",
   "pygments_lexer": "ipython3",
   "version": "3.9.7"
  }
 },
 "nbformat": 4,
 "nbformat_minor": 5
}
