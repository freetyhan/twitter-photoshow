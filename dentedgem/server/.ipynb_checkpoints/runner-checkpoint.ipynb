{
 "cells": [
  {
   "cell_type": "code",
   "execution_count": 3,
   "id": "f0b6c2cb-6eee-400b-b225-b2153c59de11",
   "metadata": {},
   "outputs": [],
   "source": [
    "import nest_asyncio\n",
    "\n",
    "nest_asyncio.apply()"
   ]
  },
  {
   "cell_type": "code",
   "execution_count": 3,
   "id": "45e61239-870b-45c1-8a9a-c0320f4be114",
   "metadata": {},
   "outputs": [
    {
     "name": "stdout",
     "output_type": "stream",
     "text": [
      "Requirement already satisfied: profanity-filter in /home/jupyter/.local/lib/python3.9/site-packages (1.3.3)\n",
      "Requirement already satisfied: pydantic<2.0,>=1.3 in /opt/conda/lib/python3.9/site-packages (from profanity-filter) (1.9.0)\n",
      "Requirement already satisfied: more-itertools<9.0,>=8.0 in /opt/conda/lib/python3.9/site-packages (from profanity-filter) (8.12.0)\n",
      "Requirement already satisfied: redis<4.0,>=3.2 in /home/jupyter/.local/lib/python3.9/site-packages (from profanity-filter) (3.5.3)\n",
      "Requirement already satisfied: cached-property<2.0,>=1.5 in /opt/conda/lib/python3.9/site-packages (from profanity-filter) (1.5.2)\n",
      "Requirement already satisfied: ordered-set<4.0,>=3.0 in /home/jupyter/.local/lib/python3.9/site-packages (from profanity-filter) (3.1.1)\n",
      "Requirement already satisfied: ordered-set-stubs<0.2.0,>=0.1.3 in /home/jupyter/.local/lib/python3.9/site-packages (from profanity-filter) (0.1.3)\n",
      "Requirement already satisfied: spacy<3.0,>=2.0 in /home/jupyter/.local/lib/python3.9/site-packages (from profanity-filter) (2.3.7)\n",
      "Requirement already satisfied: poetry-version<0.2.0,>=0.1.3 in /home/jupyter/.local/lib/python3.9/site-packages (from profanity-filter) (0.1.5)\n",
      "Requirement already satisfied: ruamel.yaml<0.16.0,>=0.15.89 in /home/jupyter/.local/lib/python3.9/site-packages (from profanity-filter) (0.15.100)\n",
      "Requirement already satisfied: tomlkit<0.6.0,>=0.4.6 in /home/jupyter/.local/lib/python3.9/site-packages (from poetry-version<0.2.0,>=0.1.3->profanity-filter) (0.5.11)\n",
      "Requirement already satisfied: typing-extensions>=3.7.4.3 in /opt/conda/lib/python3.9/site-packages (from pydantic<2.0,>=1.3->profanity-filter) (4.0.1)\n",
      "Requirement already satisfied: preshed<3.1.0,>=3.0.2 in /home/jupyter/.local/lib/python3.9/site-packages (from spacy<3.0,>=2.0->profanity-filter) (3.0.6)\n",
      "Requirement already satisfied: blis<0.8.0,>=0.4.0 in /home/jupyter/.local/lib/python3.9/site-packages (from spacy<3.0,>=2.0->profanity-filter) (0.7.6)\n",
      "Requirement already satisfied: plac<1.2.0,>=0.9.6 in /home/jupyter/.local/lib/python3.9/site-packages (from spacy<3.0,>=2.0->profanity-filter) (1.1.3)\n",
      "Requirement already satisfied: srsly<1.1.0,>=1.0.2 in /home/jupyter/.local/lib/python3.9/site-packages (from spacy<3.0,>=2.0->profanity-filter) (1.0.5)\n",
      "Requirement already satisfied: wasabi<1.1.0,>=0.4.0 in /home/jupyter/.local/lib/python3.9/site-packages (from spacy<3.0,>=2.0->profanity-filter) (0.9.0)\n",
      "Requirement already satisfied: murmurhash<1.1.0,>=0.28.0 in /home/jupyter/.local/lib/python3.9/site-packages (from spacy<3.0,>=2.0->profanity-filter) (1.0.6)\n",
      "Requirement already satisfied: cymem<2.1.0,>=2.0.2 in /home/jupyter/.local/lib/python3.9/site-packages (from spacy<3.0,>=2.0->profanity-filter) (2.0.6)\n",
      "Requirement already satisfied: requests<3.0.0,>=2.13.0 in /opt/conda/lib/python3.9/site-packages (from spacy<3.0,>=2.0->profanity-filter) (2.26.0)\n",
      "Requirement already satisfied: catalogue<1.1.0,>=0.0.7 in /home/jupyter/.local/lib/python3.9/site-packages (from spacy<3.0,>=2.0->profanity-filter) (1.0.0)\n",
      "Requirement already satisfied: tqdm<5.0.0,>=4.38.0 in /opt/conda/lib/python3.9/site-packages (from spacy<3.0,>=2.0->profanity-filter) (4.62.3)\n",
      "Requirement already satisfied: setuptools in /opt/conda/lib/python3.9/site-packages (from spacy<3.0,>=2.0->profanity-filter) (60.2.0)\n",
      "Requirement already satisfied: thinc<7.5.0,>=7.4.1 in /home/jupyter/.local/lib/python3.9/site-packages (from spacy<3.0,>=2.0->profanity-filter) (7.4.5)\n",
      "Requirement already satisfied: numpy>=1.15.0 in /opt/conda/lib/python3.9/site-packages (from spacy<3.0,>=2.0->profanity-filter) (1.20.3)\n",
      "Requirement already satisfied: idna<4,>=2.5 in /opt/conda/lib/python3.9/site-packages (from requests<3.0.0,>=2.13.0->spacy<3.0,>=2.0->profanity-filter) (3.1)\n",
      "Requirement already satisfied: charset-normalizer~=2.0.0 in /opt/conda/lib/python3.9/site-packages (from requests<3.0.0,>=2.13.0->spacy<3.0,>=2.0->profanity-filter) (2.0.9)\n",
      "Requirement already satisfied: urllib3<1.27,>=1.21.1 in /home/jupyter/.local/lib/python3.9/site-packages (from requests<3.0.0,>=2.13.0->spacy<3.0,>=2.0->profanity-filter) (1.26.8)\n",
      "Requirement already satisfied: certifi>=2017.4.17 in /opt/conda/lib/python3.9/site-packages (from requests<3.0.0,>=2.13.0->spacy<3.0,>=2.0->profanity-filter) (2021.10.8)\n",
      "Collecting en_core_web_sm==2.3.1\n",
      "  Using cached en_core_web_sm-2.3.1-py3-none-any.whl\n",
      "Requirement already satisfied: spacy<2.4.0,>=2.3.0 in /home/jupyter/.local/lib/python3.9/site-packages (from en_core_web_sm==2.3.1) (2.3.7)\n",
      "Requirement already satisfied: cymem<2.1.0,>=2.0.2 in /home/jupyter/.local/lib/python3.9/site-packages (from spacy<2.4.0,>=2.3.0->en_core_web_sm==2.3.1) (2.0.6)\n",
      "Requirement already satisfied: setuptools in /opt/conda/lib/python3.9/site-packages (from spacy<2.4.0,>=2.3.0->en_core_web_sm==2.3.1) (60.2.0)\n",
      "Requirement already satisfied: requests<3.0.0,>=2.13.0 in /opt/conda/lib/python3.9/site-packages (from spacy<2.4.0,>=2.3.0->en_core_web_sm==2.3.1) (2.26.0)\n",
      "Requirement already satisfied: catalogue<1.1.0,>=0.0.7 in /home/jupyter/.local/lib/python3.9/site-packages (from spacy<2.4.0,>=2.3.0->en_core_web_sm==2.3.1) (1.0.0)\n",
      "Requirement already satisfied: blis<0.8.0,>=0.4.0 in /home/jupyter/.local/lib/python3.9/site-packages (from spacy<2.4.0,>=2.3.0->en_core_web_sm==2.3.1) (0.7.6)\n",
      "Requirement already satisfied: wasabi<1.1.0,>=0.4.0 in /home/jupyter/.local/lib/python3.9/site-packages (from spacy<2.4.0,>=2.3.0->en_core_web_sm==2.3.1) (0.9.0)\n",
      "Requirement already satisfied: srsly<1.1.0,>=1.0.2 in /home/jupyter/.local/lib/python3.9/site-packages (from spacy<2.4.0,>=2.3.0->en_core_web_sm==2.3.1) (1.0.5)\n",
      "Requirement already satisfied: tqdm<5.0.0,>=4.38.0 in /opt/conda/lib/python3.9/site-packages (from spacy<2.4.0,>=2.3.0->en_core_web_sm==2.3.1) (4.62.3)\n",
      "Requirement already satisfied: plac<1.2.0,>=0.9.6 in /home/jupyter/.local/lib/python3.9/site-packages (from spacy<2.4.0,>=2.3.0->en_core_web_sm==2.3.1) (1.1.3)\n",
      "Requirement already satisfied: preshed<3.1.0,>=3.0.2 in /home/jupyter/.local/lib/python3.9/site-packages (from spacy<2.4.0,>=2.3.0->en_core_web_sm==2.3.1) (3.0.6)\n",
      "Requirement already satisfied: thinc<7.5.0,>=7.4.1 in /home/jupyter/.local/lib/python3.9/site-packages (from spacy<2.4.0,>=2.3.0->en_core_web_sm==2.3.1) (7.4.5)\n",
      "Requirement already satisfied: numpy>=1.15.0 in /opt/conda/lib/python3.9/site-packages (from spacy<2.4.0,>=2.3.0->en_core_web_sm==2.3.1) (1.20.3)\n",
      "Requirement already satisfied: murmurhash<1.1.0,>=0.28.0 in /home/jupyter/.local/lib/python3.9/site-packages (from spacy<2.4.0,>=2.3.0->en_core_web_sm==2.3.1) (1.0.6)\n",
      "Requirement already satisfied: idna<4,>=2.5 in /opt/conda/lib/python3.9/site-packages (from requests<3.0.0,>=2.13.0->spacy<2.4.0,>=2.3.0->en_core_web_sm==2.3.1) (3.1)\n",
      "Requirement already satisfied: certifi>=2017.4.17 in /opt/conda/lib/python3.9/site-packages (from requests<3.0.0,>=2.13.0->spacy<2.4.0,>=2.3.0->en_core_web_sm==2.3.1) (2021.10.8)\n",
      "Requirement already satisfied: charset-normalizer~=2.0.0 in /opt/conda/lib/python3.9/site-packages (from requests<3.0.0,>=2.13.0->spacy<2.4.0,>=2.3.0->en_core_web_sm==2.3.1) (2.0.9)\n",
      "Requirement already satisfied: urllib3<1.27,>=1.21.1 in /home/jupyter/.local/lib/python3.9/site-packages (from requests<3.0.0,>=2.13.0->spacy<2.4.0,>=2.3.0->en_core_web_sm==2.3.1) (1.26.8)\n",
      "Installing collected packages: en-core-web-sm\n",
      "Successfully installed en-core-web-sm-2.3.1\n",
      "\u001b[38;5;2m✔ Download and installation successful\u001b[0m\n",
      "You can now load the model via spacy.load('en_core_web_sm')\n",
      "\u001b[38;5;2m✔ Linking successful\u001b[0m\n",
      "/opt/conda/lib/python3.9/site-packages/en_core_web_sm -->\n",
      "/home/jupyter/.local/lib/python3.9/site-packages/spacy/data/en\n",
      "You can now load the model via spacy.load('en')\n",
      "Requirement already satisfied: mysql-connector-python in /home/jupyter/.local/lib/python3.9/site-packages (8.0.28)\n",
      "Requirement already satisfied: protobuf>=3.0.0 in /opt/conda/lib/python3.9/site-packages (from mysql-connector-python) (3.19.1)\n"
     ]
    }
   ],
   "source": [
    "#this is the caption filter\n",
    "!pip install --user profanity-filter\n",
    "!python -m spacy download en\n",
    "!pip install mysql-connector-python\n"
   ]
  },
  {
   "cell_type": "code",
   "execution_count": 4,
   "id": "4a4d75e7-f27f-41a8-b1d4-9fdf35529d00",
   "metadata": {},
   "outputs": [
    {
     "name": "stdout",
     "output_type": "stream",
     "text": [
      "START Scrappping\n",
      "#restaurant1 OR @restaurant1 OR \n",
      "Scraping Twitter\n",
      "[!] No more data! Scraping will stop now.\n",
      "found 0 deleted tweets in this search.\n",
      "None\n",
      "done\n",
      "Done Scrappping\n",
      "START: database updates\n",
      "START: database INSERT\n",
      "DONE: database INSERT\n",
      "Start: censorship\n",
      "Amount Censored: 0\n",
      "Done: censorship\n",
      "DONE: database updates\n"
     ]
    }
   ],
   "source": [
    "%run scrapper.py"
   ]
  },
  {
   "cell_type": "code",
   "execution_count": 1,
   "id": "4963939f-7b5d-40ff-8a68-0f7057208ee7",
   "metadata": {},
   "outputs": [
    {
     "data": {
      "text/plain": [
       "'/home/jupyter/l2a-03-penguins/dentedgem/server'"
      ]
     },
     "execution_count": 1,
     "metadata": {},
     "output_type": "execute_result"
    }
   ],
   "source": [
    "%pwd"
   ]
  },
  {
   "cell_type": "code",
   "execution_count": null,
   "id": "c3bd48a5-5d7d-4b51-aa73-7d85169196a7",
   "metadata": {},
   "outputs": [],
   "source": []
  }
 ],
 "metadata": {
  "kernelspec": {
   "display_name": "Python 3 (ipykernel)",
   "language": "python",
   "name": "python3"
  },
  "language_info": {
   "codemirror_mode": {
    "name": "ipython",
    "version": 3
   },
   "file_extension": ".py",
   "mimetype": "text/x-python",
   "name": "python",
   "nbconvert_exporter": "python",
   "pygments_lexer": "ipython3",
   "version": "3.9.7"
  }
 },
 "nbformat": 4,
 "nbformat_minor": 5
}
