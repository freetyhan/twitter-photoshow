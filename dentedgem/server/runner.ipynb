{
 "cells": [
  {
   "cell_type": "code",
   "execution_count": 4,
   "id": "f0b6c2cb-6eee-400b-b225-b2153c59de11",
   "metadata": {},
   "outputs": [],
   "source": [
    "import nest_asyncio\n",
    "\n",
    "nest_asyncio.apply()"
   ]
  },
  {
   "cell_type": "code",
   "execution_count": 5,
   "id": "45e61239-870b-45c1-8a9a-c0320f4be114",
   "metadata": {},
   "outputs": [
    {
     "name": "stdout",
     "output_type": "stream",
     "text": [
      "Requirement already satisfied: profanity-filter in /home/jupyter/.local/lib/python3.9/site-packages (1.3.3)\n",
      "Requirement already satisfied: redis<4.0,>=3.2 in /home/jupyter/.local/lib/python3.9/site-packages (from profanity-filter) (3.5.3)\n",
      "Requirement already satisfied: cached-property<2.0,>=1.5 in /opt/conda/lib/python3.9/site-packages (from profanity-filter) (1.5.2)\n",
      "Requirement already satisfied: ordered-set-stubs<0.2.0,>=0.1.3 in /home/jupyter/.local/lib/python3.9/site-packages (from profanity-filter) (0.1.3)\n",
      "Requirement already satisfied: spacy<3.0,>=2.0 in /home/jupyter/.local/lib/python3.9/site-packages (from profanity-filter) (2.3.7)\n",
      "Requirement already satisfied: ordered-set<4.0,>=3.0 in /home/jupyter/.local/lib/python3.9/site-packages (from profanity-filter) (3.1.1)\n",
      "Requirement already satisfied: ruamel.yaml<0.16.0,>=0.15.89 in /home/jupyter/.local/lib/python3.9/site-packages (from profanity-filter) (0.15.100)\n",
      "Requirement already satisfied: poetry-version<0.2.0,>=0.1.3 in /home/jupyter/.local/lib/python3.9/site-packages (from profanity-filter) (0.1.5)\n",
      "Requirement already satisfied: more-itertools<9.0,>=8.0 in /opt/conda/lib/python3.9/site-packages (from profanity-filter) (8.12.0)\n",
      "Requirement already satisfied: pydantic<2.0,>=1.3 in /opt/conda/lib/python3.9/site-packages (from profanity-filter) (1.9.0)\n",
      "Requirement already satisfied: tomlkit<0.6.0,>=0.4.6 in /home/jupyter/.local/lib/python3.9/site-packages (from poetry-version<0.2.0,>=0.1.3->profanity-filter) (0.5.11)\n",
      "Requirement already satisfied: typing-extensions>=3.7.4.3 in /opt/conda/lib/python3.9/site-packages (from pydantic<2.0,>=1.3->profanity-filter) (4.0.1)\n",
      "Requirement already satisfied: thinc<7.5.0,>=7.4.1 in /home/jupyter/.local/lib/python3.9/site-packages (from spacy<3.0,>=2.0->profanity-filter) (7.4.5)\n",
      "Requirement already satisfied: murmurhash<1.1.0,>=0.28.0 in /home/jupyter/.local/lib/python3.9/site-packages (from spacy<3.0,>=2.0->profanity-filter) (1.0.6)\n",
      "Requirement already satisfied: srsly<1.1.0,>=1.0.2 in /home/jupyter/.local/lib/python3.9/site-packages (from spacy<3.0,>=2.0->profanity-filter) (1.0.5)\n",
      "Requirement already satisfied: wasabi<1.1.0,>=0.4.0 in /home/jupyter/.local/lib/python3.9/site-packages (from spacy<3.0,>=2.0->profanity-filter) (0.9.0)\n",
      "Requirement already satisfied: preshed<3.1.0,>=3.0.2 in /home/jupyter/.local/lib/python3.9/site-packages (from spacy<3.0,>=2.0->profanity-filter) (3.0.6)\n",
      "Requirement already satisfied: catalogue<1.1.0,>=0.0.7 in /home/jupyter/.local/lib/python3.9/site-packages (from spacy<3.0,>=2.0->profanity-filter) (1.0.0)\n",
      "Requirement already satisfied: plac<1.2.0,>=0.9.6 in /home/jupyter/.local/lib/python3.9/site-packages (from spacy<3.0,>=2.0->profanity-filter) (1.1.3)\n",
      "Requirement already satisfied: cymem<2.1.0,>=2.0.2 in /home/jupyter/.local/lib/python3.9/site-packages (from spacy<3.0,>=2.0->profanity-filter) (2.0.6)\n",
      "Requirement already satisfied: blis<0.8.0,>=0.4.0 in /home/jupyter/.local/lib/python3.9/site-packages (from spacy<3.0,>=2.0->profanity-filter) (0.7.6)\n",
      "Requirement already satisfied: setuptools in /opt/conda/lib/python3.9/site-packages (from spacy<3.0,>=2.0->profanity-filter) (60.2.0)\n",
      "Requirement already satisfied: requests<3.0.0,>=2.13.0 in /opt/conda/lib/python3.9/site-packages (from spacy<3.0,>=2.0->profanity-filter) (2.26.0)\n",
      "Requirement already satisfied: tqdm<5.0.0,>=4.38.0 in /opt/conda/lib/python3.9/site-packages (from spacy<3.0,>=2.0->profanity-filter) (4.62.3)\n",
      "Requirement already satisfied: numpy>=1.15.0 in /opt/conda/lib/python3.9/site-packages (from spacy<3.0,>=2.0->profanity-filter) (1.20.3)\n",
      "Requirement already satisfied: idna<4,>=2.5 in /opt/conda/lib/python3.9/site-packages (from requests<3.0.0,>=2.13.0->spacy<3.0,>=2.0->profanity-filter) (3.1)\n",
      "Requirement already satisfied: charset-normalizer~=2.0.0 in /opt/conda/lib/python3.9/site-packages (from requests<3.0.0,>=2.13.0->spacy<3.0,>=2.0->profanity-filter) (2.0.9)\n",
      "Requirement already satisfied: certifi>=2017.4.17 in /opt/conda/lib/python3.9/site-packages (from requests<3.0.0,>=2.13.0->spacy<3.0,>=2.0->profanity-filter) (2021.10.8)\n",
      "Requirement already satisfied: urllib3<1.27,>=1.21.1 in /home/jupyter/.local/lib/python3.9/site-packages (from requests<3.0.0,>=2.13.0->spacy<3.0,>=2.0->profanity-filter) (1.26.8)\n",
      "Collecting en_core_web_sm==2.3.1\n",
      "  Using cached en_core_web_sm-2.3.1-py3-none-any.whl\n",
      "Requirement already satisfied: spacy<2.4.0,>=2.3.0 in /home/jupyter/.local/lib/python3.9/site-packages (from en_core_web_sm==2.3.1) (2.3.7)\n",
      "Requirement already satisfied: blis<0.8.0,>=0.4.0 in /home/jupyter/.local/lib/python3.9/site-packages (from spacy<2.4.0,>=2.3.0->en_core_web_sm==2.3.1) (0.7.6)\n",
      "Requirement already satisfied: plac<1.2.0,>=0.9.6 in /home/jupyter/.local/lib/python3.9/site-packages (from spacy<2.4.0,>=2.3.0->en_core_web_sm==2.3.1) (1.1.3)\n",
      "Requirement already satisfied: murmurhash<1.1.0,>=0.28.0 in /home/jupyter/.local/lib/python3.9/site-packages (from spacy<2.4.0,>=2.3.0->en_core_web_sm==2.3.1) (1.0.6)\n",
      "Requirement already satisfied: numpy>=1.15.0 in /opt/conda/lib/python3.9/site-packages (from spacy<2.4.0,>=2.3.0->en_core_web_sm==2.3.1) (1.20.3)\n",
      "Requirement already satisfied: preshed<3.1.0,>=3.0.2 in /home/jupyter/.local/lib/python3.9/site-packages (from spacy<2.4.0,>=2.3.0->en_core_web_sm==2.3.1) (3.0.6)\n",
      "Requirement already satisfied: tqdm<5.0.0,>=4.38.0 in /opt/conda/lib/python3.9/site-packages (from spacy<2.4.0,>=2.3.0->en_core_web_sm==2.3.1) (4.62.3)\n",
      "Requirement already satisfied: setuptools in /opt/conda/lib/python3.9/site-packages (from spacy<2.4.0,>=2.3.0->en_core_web_sm==2.3.1) (60.2.0)\n",
      "Requirement already satisfied: cymem<2.1.0,>=2.0.2 in /home/jupyter/.local/lib/python3.9/site-packages (from spacy<2.4.0,>=2.3.0->en_core_web_sm==2.3.1) (2.0.6)\n",
      "Requirement already satisfied: srsly<1.1.0,>=1.0.2 in /home/jupyter/.local/lib/python3.9/site-packages (from spacy<2.4.0,>=2.3.0->en_core_web_sm==2.3.1) (1.0.5)\n",
      "Requirement already satisfied: wasabi<1.1.0,>=0.4.0 in /home/jupyter/.local/lib/python3.9/site-packages (from spacy<2.4.0,>=2.3.0->en_core_web_sm==2.3.1) (0.9.0)\n",
      "Requirement already satisfied: requests<3.0.0,>=2.13.0 in /opt/conda/lib/python3.9/site-packages (from spacy<2.4.0,>=2.3.0->en_core_web_sm==2.3.1) (2.26.0)\n",
      "Requirement already satisfied: catalogue<1.1.0,>=0.0.7 in /home/jupyter/.local/lib/python3.9/site-packages (from spacy<2.4.0,>=2.3.0->en_core_web_sm==2.3.1) (1.0.0)\n",
      "Requirement already satisfied: thinc<7.5.0,>=7.4.1 in /home/jupyter/.local/lib/python3.9/site-packages (from spacy<2.4.0,>=2.3.0->en_core_web_sm==2.3.1) (7.4.5)\n",
      "Requirement already satisfied: urllib3<1.27,>=1.21.1 in /home/jupyter/.local/lib/python3.9/site-packages (from requests<3.0.0,>=2.13.0->spacy<2.4.0,>=2.3.0->en_core_web_sm==2.3.1) (1.26.8)\n",
      "Requirement already satisfied: certifi>=2017.4.17 in /opt/conda/lib/python3.9/site-packages (from requests<3.0.0,>=2.13.0->spacy<2.4.0,>=2.3.0->en_core_web_sm==2.3.1) (2021.10.8)\n",
      "Requirement already satisfied: idna<4,>=2.5 in /opt/conda/lib/python3.9/site-packages (from requests<3.0.0,>=2.13.0->spacy<2.4.0,>=2.3.0->en_core_web_sm==2.3.1) (3.1)\n",
      "Requirement already satisfied: charset-normalizer~=2.0.0 in /opt/conda/lib/python3.9/site-packages (from requests<3.0.0,>=2.13.0->spacy<2.4.0,>=2.3.0->en_core_web_sm==2.3.1) (2.0.9)\n",
      "\u001b[38;5;2m✔ Download and installation successful\u001b[0m\n",
      "You can now load the model via spacy.load('en_core_web_sm')\n",
      "\u001b[38;5;2m✔ Linking successful\u001b[0m\n",
      "/opt/conda/lib/python3.9/site-packages/en_core_web_sm -->\n",
      "/home/jupyter/.local/lib/python3.9/site-packages/spacy/data/en\n",
      "You can now load the model via spacy.load('en')\n",
      "Requirement already satisfied: mysql-connector-python in /home/jupyter/.local/lib/python3.9/site-packages (8.0.28)\n",
      "Requirement already satisfied: protobuf>=3.0.0 in /opt/conda/lib/python3.9/site-packages (from mysql-connector-python) (3.19.1)\n"
     ]
    }
   ],
   "source": [
    "#this is the caption filter\n",
    "!pip install --user profanity-filter\n",
    "!python -m spacy download en\n",
    "!pip install mysql-connector-python\n"
   ]
  },
  {
   "cell_type": "code",
   "execution_count": 3,
   "id": "4a4d75e7-f27f-41a8-b1d4-9fdf35529d00",
   "metadata": {},
   "outputs": [
    {
     "name": "stdout",
     "output_type": "stream",
     "text": [
      "START Scrappping\n",
      "#restaurant1 OR @restaurant1 OR \n",
      "Scraping Twitter\n",
      "1431170774170161155 2021-08-27 08:24:37 +0000 <VancityIN> #TastyIndianBistro’s Falooda ice cream 🍨 💕  https://t.co/z1ck0VBOXj\n",
      "1401308725202194432 2021-06-05 22:43:29 +0000 <DennVan> Our first time eating out and having drinks at a restaurant since Feb 2020  #dinnerdate #sangria #tastyindianbistro  https://t.co/svCstXG6cm\n",
      "1375602348010004483 2021-03-27 00:15:31 +0000 <greenurlifenow> ‘A Taste of Reach’ #NorthDeltaBC fundraiser going drive-thru for 2021 (Fri April 23).  #TastyIndianBistro 🇨🇦   https://t.co/S2iWVW3JuA\n",
      "1351540755060334593 2021-01-19 14:43:21 +0000 <DianeFMacLean1> @CookedBest In the Vancouver BC area you must have sushi and Indian food at #TastyIndianBistro\n",
      "1326751296347467776 2020-11-12 04:58:53 +0000 <VancityIN> Some #Homemade food, some from #Cactusclubcafe, #Bostonpizza , #Revolvingrestaurant , #TastyIndianBistro 💜 #foodies  https://t.co/SlqYMoKrp0\n",
      "1223808348803489792 2020-02-02 03:20:22 +0000 <Margieville> Night out with the girls.  Eating.  Drinking. Living. ☺️ Love ♥️ . . . #dinner #dinnerdate #girlsnight #girlsnightout #indianfood #tastyindianbistro #dinnerout #fun #drinks #cocktails #allthecocktails #honeysalt…  https://t.co/mOo0UBro8E\n",
      "1199565447663964161 2019-11-27 05:47:44 +0000 <kbpmv> A must-attend event! #TasteofReach on Dec 3. Thanks to sponsors, donors and our generous hosts at #TastyIndianBistro in #NorthDelta\n",
      "1166144837692739584 2019-08-27 00:26:09 +0000 <charanzworld> Of course we had to stop by #tastyindianbistro for lunch. And got tempted by the dessert menu. My daughter has the sampler ice cream sample and I got the Malpura which was too sweet for me. 🚗 #roadtrip…  https://t.co/eYykvrhgy8\n",
      "1149954383704141825 2019-07-13 08:11:04 +0000 <crazybusyshar> Late dinner eats with my good friend, @juicealyn...unexpected trip to @tastyindian!  Best food decision of the night! . . .  #shrimpstrips #chillimushrooms #chickenwings #chickenkorma #garlicnaan #tastyindianbistro  https://t.co/rTMxTtZRJr  https://t.co/8JEDjOZz7L\n",
      "1125440151419785217 2019-05-06 16:40:16 +0000 <SuttonPlaceHtl> Experience the exotic flavours of Tasty Indian Bistro with a night of entertainment and dancing at The Sutton Place Hotel Vancouver with Kitchen Take-Over Series: The Tasty Experience.  Full details:  https://t.co/15LPt5pw3s #TheSuttonPlaceHotels #Vancouver #TastyIndianBistro  https://t.co/sZdoFwSzO4\n",
      "1098449357752487937 2019-02-21 05:08:29 +0000 <karinaa_p> I grew up in North Delta and never knew about @IndianBistro until recently! We enjoyed lots of butter chicken, naan &amp; tandoori chicken 🔥#tastyindianbistro  - - - - - #indianfood…  https://t.co/pfC4bzKOYT\n",
      "1053205620034162688 2018-10-19 08:46:02 +0000 <Gorayianwala> Fine dining at a culinary palace is a meal fit for a King!!! #tastyindianbistro  https://t.co/uNOPcm6mpV\n",
      "1033477646380875778 2018-08-25 22:14:06 +0000 <charanzworld> Our yearly visit to our favorite Tasty Indian bistro in Vancouver 😁😁. #travel #traveljournal #roadtrip #westcoast #pacificnorthwest #canada #britishcolumbia #vancouver #tastyindianbistro  https://t.co/ZbL1HU2Uky\n",
      "1024427018694344706 2018-07-31 22:50:08 +0000 <IndianBistro> Taste of Yaletown: C H I C K E N   R O U L A D E.  Succulent chicken stuffed with apple, hand picked herbs and layered with tangy pomodoro sauce.  This one is a must try!  #openingsoon #omnomnom #tastyindianbistro  https://t.co/gIurQKszTL\n",
      "1023383882866024449 2018-07-29 01:45:05 +0000 <IndianBistro> Summer + Sangria + Tasty = good times!#tastyindianbistro  https://t.co/XtyLjt6KQM\n",
      "1022235074656444416 2018-07-25 21:40:08 +0000 <IndianBistro> In a hurry to feed the family?  Call us ahead of time and we'll have your order ready! (604) 507-9393 #tastyindianbistro  https://t.co/DktHPPjcmK\n",
      "1021495224105922566 2018-07-23 20:40:14 +0000 <IndianBistro> Fresh, authentic and and one of a kind - that's the Tasty experience.  #getinmybelly #sososogood #tastyindianbistro  https://t.co/ZYCSfUkAKp\n",
      "1020785517800181763 2018-07-21 21:40:07 +0000 <IndianBistro> Skip the dishes this weekend and get delicious take-out for the whole family!  Call (604) 507-9393 to place your order. #tastyindianbistro  https://t.co/fxCukThKDO\n",
      "1020119876072017922 2018-07-20 01:35:06 +0000 <IndianBistro> Let us help plan your special event!  We have three private dining rooms to choose from and offer full private service.  Please call to inquire. #tastyindianbistro  https://t.co/70V3D1ryKF\n",
      "1018655234665705472 2018-07-16 00:35:08 +0000 <IndianBistro> Tasty Indian Bistro is the realization of a life-long dream to open a restaurant where guests would feel like they are dining at the Taj Mahal, enjoying authentic dishes from all regions of India with exceptional customer service.  #missionaccomplished #tastyindianbistro  https://t.co/TlXs9yPbnk\n",
      "1017929262383419392 2018-07-14 00:30:23 +0000 <IndianBistro> We're taking the #oldfashioned to a whole new level this summer.  You're gonna love it! #gentlemensdrink #bottomsup #tastyindianbistro  https://t.co/tgS5kCAszn\n",
      "1017144129896243200 2018-07-11 20:30:32 +0000 <IndianBistro> Desserts are made for sharing but let's be honest, do you really want to?  #notreally #dessertfirst #tastyindianbistro  https://t.co/nMx9Dyj22k\n",
      "1015768704741715969 2018-07-08 01:25:05 +0000 <IndianBistro> A little spice, a lot of spice, never enough spice! #spicelife #tastyindianbistro  https://t.co/vRp7vAQndX\n",
      "1014210991737929728 2018-07-03 18:15:18 +0000 <IndianBistro> A taste of #Yaletown.  Featured here are our C O R N  C H O P S, enjoy American corn mashed with pickled jalapeños, gerkins, mint and house made spices.  Served with garlic mayonnaise.  Dig in!  #comingsoon #tastyindianbistro  https://t.co/Tb0CHCcvC9\n",
      "1012411636668420096 2018-06-28 19:05:18 +0000 <IndianBistro> \\ \\ N E W / / Because sharing is caring, this fruity wine drink aka #sangria is the ultimate summer treat! #bottomsup #tastyindianbistro  https://t.co/eMGOFDvn8C\n",
      "1011710743589376001 2018-06-26 20:40:12 +0000 <IndianBistro> \"The decor is excellent just like many fine dining restaurant. Service was always great. I always love the food I ordered there.\" ~ak_and_vic, TripAdvisor.  #tastyindianbistro #customerlove #grateful  https://t.co/L4QOEIPMvY\n",
      "1010977149191409671 2018-06-24 20:05:10 +0000 <IndianBistro> Live life with a little spice. #tastyindianbistro #604eats #surreycurry  https://t.co/CV2E3fvMTP\n",
      "1008061896661110784 2018-06-16 19:00:59 +0000 <IndianBistro> Hunger is the best of spices. Sneak peek at our new menu items!  #spiced #getinmybelly #tastyindianbistro  https://t.co/AP7C1womLV\n",
      "1007352278444138496 2018-06-14 20:01:13 +0000 <IndianBistro> This refreshing summer fruit salad is all that and more!  Available for a limited time only. #summertime #appie #tastyindianbistro  https://t.co/uUIrGdXKOP\n",
      "1006653673446019072 2018-06-12 21:45:13 +0000 <IndianBistro> \"One of the nicest fine dining Indian restaurants in the area. The place is huge with warmth to it. Foods great.\" ~Chanakya Dave, Google Review.  //  Thank you for the positive feedback, we love it!  Photo credit:  https://t.co/OSKIpzbsDE #customerlove #grateful #tastyindianbistro  https://t.co/chnbV933MW\n",
      "1005577853910601731 2018-06-09 22:30:17 +0000 <IndianBistro> Our fave weekend combo: patios, cocktails and smiles.  #tastyindianbistro #thirsty #vitaminD  https://t.co/4ZGqDplZLF\n",
      "1002989513617141760 2018-06-02 19:05:09 +0000 <IndianBistro> **N E W** Just in time for the beautiful summer weather, we've got a refreshing line-up of cocktails and drinks to keep you chill and cool.  Who's thirsty? #tastyindianbistro #tastyindian #weekendfun  https://t.co/WSaBrHJxnr\n",
      "1002296200945655810 2018-05-31 21:10:10 +0000 <IndianBistro> \"I have been a very pleased customer since their humble beginnings 9 years ago, and I recommend this restaurant to anyone!\" ~ Kyle Baker, Google Review #blessed #customerlove #tastyindianbistro  https://t.co/1BJXbveq0S\n",
      "1000120626919682048 2018-05-25 21:05:13 +0000 <IndianBistro> It's #nationalwineday!  A day to buy wine, appreciate wine and enjoy the history of wine. #winenot #tastyindianbistro  https://t.co/2rLrYUcw3K\n",
      "999757251039629312 2018-05-24 21:01:17 +0000 <IndianBistro> Let the summer cocktails pour! #thirstythursday #whitesangria #tastyindianbistro  https://t.co/1y6aTkKR8U\n",
      "998304884402376704 2018-05-20 20:50:06 +0000 <IndianBistro> We hope everyone is enjoying this beautiful long weekend.  We're having tandoori prawns for lunch, join us!  #victoriaday #getinmybelly #tastyindianbistro  https://t.co/ArdAF2lc2b\n",
      "997217736307638272 2018-05-17 20:50:10 +0000 <IndianBistro> #repost @tu_minh_ngo143 \"Trio of mousse made me go snooze lol complete food coma....wondering if they will just let me sleep here tonight.\"  // Dessert is always a good idea!  #chocolatemousse #vanillastrawberrymousse #mangomousse #dessert #tastyindianbistro  https://t.co/kAAGztSIQu\n",
      "996491713597399042 2018-05-15 20:45:13 +0000 <IndianBistro> #repost @stacitee \"Favorite Indian restaurant!\"// Thank you @stacitee!  #tastyindianbistro #grateful  https://t.co/Q7hcZqGkSG\n",
      "995766919285354496 2018-05-13 20:45:08 +0000 <IndianBistro> Happy Mother's Day! #momisbest #tastyindianbistro  https://t.co/27xTSyPKvJ\n",
      "995040899481636864 2018-05-11 20:40:12 +0000 <IndianBistro> Friday drink specials: Cobra $1 off and single highballs $5 each.  Come and grab a drink with us! #friyay #tastyindianbistro  https://t.co/yWbkM2FLPZ\n",
      "[!] No more data! Scraping will stop now.\n",
      "found 0 deleted tweets in this search.\n",
      "None\n",
      "done\n",
      "Done Scrappping\n",
      "START: database updates\n",
      "START: database INSERT\n",
      "DONE: database INSERT\n",
      "Start: censorship\n",
      "Amount Censored: 0\n",
      "Done: censorship\n",
      "DONE: database updates\n"
     ]
    }
   ],
   "source": [
    "%run scrapper.py"
   ]
  },
  {
   "cell_type": "code",
   "execution_count": 4,
   "id": "4963939f-7b5d-40ff-8a68-0f7057208ee7",
   "metadata": {},
   "outputs": [
    {
     "data": {
      "text/plain": [
       "'/home/jupyter/l2a-03-penguins/dentedgem/server'"
      ]
     },
     "execution_count": 4,
     "metadata": {},
     "output_type": "execute_result"
    }
   ],
   "source": [
    "%pwd"
   ]
  },
  {
   "cell_type": "code",
   "execution_count": 8,
   "id": "c3bd48a5-5d7d-4b51-aa73-7d85169196a7",
   "metadata": {},
   "outputs": [
    {
     "name": "stdout",
     "output_type": "stream",
     "text": [
      "['hate', 'disgusting', 'fruit']\n",
      "It's #nationalwineday!  A day to buy wine, appreciate wine and enjoy the history of wine. #winenot #tastyindianbistro  \n",
      "\"I have been a very pleased customer since their humble beginnings 9 years ago, and I recommend this restaurant to anyone!\" ~ Kyle Baker, Google Review #blessed #customerlove #tastyindianbistro  \n",
      "**N E W** Just in time for the beautiful summer weather, we've got a refreshing line-up of cocktails and drinks to keep you chill and cool.  Who's thirsty? #tastyindianbistro #tastyindian #weekendfun  \n",
      "**N E W** Just in time for the beautiful summer weather, we've got a refreshing line-up of cocktails and drinks to keep you chill and cool.  Who's thirsty? #tastyindianbistro #tastyindian #weekendfun  \n",
      "Our fave weekend combo: patios, cocktails and smiles.  #tastyindianbistro #thirsty #vitaminD  \n",
      "\"One of the nicest fine dining Indian restaurants in the area. The place is huge with warmth to it. Foods great.\" ~Chanakya Dave, Google Review.  //  Thank you for the positive feedback, we love it!  Photo credit:   #customerlove #grateful #tastyindianbistro  \n",
      "This refreshing summer fruit salad is all that and more!  Available for a limited time only. #summertime #appie #tastyindianbistro  \n",
      "Hunger is the best of spices. Sneak peek at our new menu items!  #spiced #getinmybelly #tastyindianbistro  \n",
      "Hunger is the best of spices. Sneak peek at our new menu items!  #spiced #getinmybelly #tastyindianbistro  \n",
      "Hunger is the best of spices. Sneak peek at our new menu items!  #spiced #getinmybelly #tastyindianbistro  \n",
      "Hunger is the best of spices. Sneak peek at our new menu items!  #spiced #getinmybelly #tastyindianbistro  \n",
      "Live life with a little spice. #tastyindianbistro #604eats #surreycurry  \n",
      "\"The decor is excellent just like many fine dining restaurant. Service was always great. I always love the food I ordered there.\" ~ak_and_vic, TripAdvisor.  #tastyindianbistro #customerlove #grateful  \n",
      "\\ \\ N E W / / Because sharing is caring, this fruity wine drink aka #sangria is the ultimate summer treat! #bottomsup #tastyindianbistro  \n",
      "A taste of #Yaletown.  Featured here are our C O R N  C H O P S, enjoy American corn mashed with pickled jalapeños, gerkins, mint and house made spices.  Served with garlic mayonnaise.  Dig in!  #comingsoon #tastyindianbistro  \n",
      "A little spice, a lot of spice, never enough spice! #spicelife #tastyindianbistro  \n",
      "Desserts are made for sharing but let's be honest, do you really want to?  #notreally #dessertfirst #tastyindianbistro  \n",
      "We're taking the #oldfashioned to a whole new level this summer.  You're gonna love it! #gentlemensdrink #bottomsup #tastyindianbistro  \n",
      "Tasty Indian Bistro is the realization of a life-long dream to open a restaurant where guests would feel like they are dining at the Taj Mahal, enjoying authentic dishes from all regions of India with exceptional customer service.  #missionaccomplished #tastyindianbistro  \n",
      "Let us help plan your special event!  We have three private dining rooms to choose from and offer full private service.  Please call to inquire. #tastyindianbistro  \n",
      "Skip the dishes this weekend and get delicious take-out for the whole family!  Call (604) 507-9393 to place your order. #tastyindianbistro  \n",
      "Fresh, authentic and and one of a kind - that's the Tasty experience.  #getinmybelly #sososogood #tastyindianbistro  \n",
      "In a hurry to feed the family?  Call us ahead of time and we'll have your order ready! (604) 507-9393 #tastyindianbistro  \n",
      "Summer + Sangria + Tasty = good times!#tastyindianbistro  \n",
      "Taste of Yaletown: C H I C K E N   R O U L A D E.  Succulent chicken stuffed with apple, hand picked herbs and layered with tangy pomodoro sauce.  This one is a must try!  #openingsoon #omnomnom #tastyindianbistro  \n",
      "Experience the exotic flavours of Tasty Indian Bistro with a night of entertainment and dancing at The Sutton Place Hotel Vancouver with Kitchen Take-Over Series: The Tasty Experience.  Full details:   #TheSuttonPlaceHotels #Vancouver #TastyIndianBistro  \n",
      "Late dinner eats with my good friend, @juicealyn...unexpected trip to @tastyindian!  Best food decision of the night! . . .  #shrimpstrips #chillimushrooms #chickenwings #chickenkorma #garlicnaan #tastyindianbistro    \n",
      "Our first time eating out and having drinks at a restaurant since Feb 2020  #dinnerdate #sangria #tastyindianbistro  \n",
      "#TastyIndianBistro’s Falooda ice cream    \n",
      "Friday drink specials: Cobra $1 off and single highballs $5 each.  Come and grab a drink with us! #friyay #tastyindianbistro  \n",
      "Happy Mother's Day! #momisbest #tastyindianbistro  \n",
      "#repost @stacitee \"Favorite Indian restaurant!\"// Thank you @stacitee!  #tastyindianbistro #grateful  \n",
      "#repost @tu_minh_ngo143 \"Trio of mousse made me go snooze lol complete food coma....wondering if they will just let me sleep here tonight.\"  // Dessert is always a good idea!  #chocolatemousse #vanillastrawberrymousse #mangomousse #dessert #tastyindianbistro  \n",
      "We hope everyone is enjoying this beautiful long weekend.  We're having tandoori prawns for lunch, join us!  #victoriaday #getinmybelly #tastyindianbistro  \n",
      "Let the summer cocktails pour! #thirstythursday #whitesangria #tastyindianbistro  \n",
      "Amount Censored: 1\n"
     ]
    }
   ],
   "source": [
    "%run censorship.py"
   ]
  },
  {
   "cell_type": "code",
   "execution_count": null,
   "id": "b6ceccb6-0bcf-471b-8b66-d1475fdb8923",
   "metadata": {},
   "outputs": [],
   "source": []
  }
 ],
 "metadata": {
  "kernelspec": {
   "display_name": "Python 3 (ipykernel)",
   "language": "python",
   "name": "python3"
  },
  "language_info": {
   "codemirror_mode": {
    "name": "ipython",
    "version": 3
   },
   "file_extension": ".py",
   "mimetype": "text/x-python",
   "name": "python",
   "nbconvert_exporter": "python",
   "pygments_lexer": "ipython3",
   "version": "3.9.7"
  }
 },
 "nbformat": 4,
 "nbformat_minor": 5
}
