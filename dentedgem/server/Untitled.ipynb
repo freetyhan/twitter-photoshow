{
 "cells": [
  {
   "cell_type": "code",
   "execution_count": 1,
   "id": "76271308-d263-492b-bc23-fb0f5ebf16ef",
   "metadata": {},
   "outputs": [],
   "source": [
    "import mysql.connector"
   ]
  },
  {
   "cell_type": "code",
   "execution_count": null,
   "id": "8a60fc28-d7ff-4c20-a49d-e680eb01ee9c",
   "metadata": {},
   "outputs": [],
   "source": [
    "mydb = mysql.connector.connect(host='137.184.230.178',database='photo_gallery',user='aks',password='123')   \n",
    "mycursor = mydb.cursor()\n",
    "\n",
    "sql = \"SELECT * FROM tweets\"\n",
    "\n",
    "mycursor.execute(sql)\n",
    "\n",
    "result = mycursor.fetchall()\n",
    "result  \n",
    "\n",
    "\n",
    "        "
   ]
  },
  {
   "cell_type": "code",
   "execution_count": null,
   "id": "34c2c37a-ce76-4d9d-a6dc-3421e7d914d4",
   "metadata": {},
   "outputs": [],
   "source": [
    "sql = \"TRUNCATE TABLE tweets\"\n",
    "\n",
    "mycursor.execute(sql)"
   ]
  },
  {
   "cell_type": "code",
   "execution_count": null,
   "id": "8c8b8dfb-cb7e-4075-b208-da6e0ffdb3b8",
   "metadata": {},
   "outputs": [],
   "source": [
    "\n",
    "sql = \"SELECT * FROM tweets\"\n",
    "\n",
    "mycursor.execute(sql)\n",
    "\n",
    "result = mycursor.fetchall()\n",
    "result  "
   ]
  },
  {
   "cell_type": "code",
   "execution_count": null,
   "id": "3a6587d7-1e8c-49d7-be45-8f2020d19601",
   "metadata": {},
   "outputs": [],
   "source": []
  }
 ],
 "metadata": {
  "kernelspec": {
   "display_name": "Python 3 (ipykernel)",
   "language": "python",
   "name": "python3"
  },
  "language_info": {
   "codemirror_mode": {
    "name": "ipython",
    "version": 3
   },
   "file_extension": ".py",
   "mimetype": "text/x-python",
   "name": "python",
   "nbconvert_exporter": "python",
   "pygments_lexer": "ipython3",
   "version": "3.9.7"
  }
 },
 "nbformat": 4,
 "nbformat_minor": 5
}
